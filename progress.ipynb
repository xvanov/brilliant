{
 "cells": [
  {
   "cell_type": "markdown",
   "metadata": {},
   "source": [
    "# dependencies"
   ]
  },
  {
   "cell_type": "code",
   "execution_count": 387,
   "metadata": {
    "ExecuteTime": {
     "end_time": "2020-12-25T23:10:53.854062Z",
     "start_time": "2020-12-25T23:10:53.842830Z"
    }
   },
   "outputs": [],
   "source": [
    "# general\n",
    "import os, sys\n",
    "\n",
    "# data manipulation\n",
    "import json\n",
    "import pandas as pd\n",
    "import numpy as np\n",
    "\n",
    "# pre-processing\n",
    "from sklearn.impute import SimpleImputer\n",
    "from sklearn.preprocessing import OneHotEncoder, RobustScaler\n",
    "\n",
    "# modeling\n",
    "from sklearn.linear_model import LogisticRegression\n",
    "from sklearn.ensemble import RandomForestClassifier\n",
    "\n",
    "# validate\n",
    "from sklearn.model_selection import cross_validate, cross_val_score\n",
    "\n",
    "# hyperparameter optimization\n",
    "from skopt import gp_minimize\n",
    "from skopt.space import Real, Integer, Categorical\n",
    "from skopt.utils import use_named_args\n",
    "\n",
    "# visualization\n",
    "from matplotlib import pyplot as plt\n",
    "from skopt.plots import plot_convergence\n",
    "\n",
    "%matplotlib inline"
   ]
  },
  {
   "cell_type": "code",
   "execution_count": 382,
   "metadata": {
    "ExecuteTime": {
     "end_time": "2020-12-25T23:10:10.700712Z",
     "start_time": "2020-12-25T23:10:10.695230Z"
    }
   },
   "outputs": [],
   "source": [
    "def skot_hyperopt(space, model, x, y):\n",
    "    @use_named_args(space)\n",
    "    def objective(**params):\n",
    "        model.set_params(**params)\n",
    "\n",
    "        return -np.mean(cross_val_score(model, x, y, cv=5, n_jobs=-1,\n",
    "                                        scoring=\"accuracy\"))\n",
    "    res_gp = gp_minimize(objective, space, n_calls=50, random_state=0)\n",
    "    return res_gp"
   ]
  },
  {
   "cell_type": "markdown",
   "metadata": {
    "heading_collapsed": true
   },
   "source": [
    "# set-up"
   ]
  },
  {
   "cell_type": "code",
   "execution_count": 15,
   "metadata": {
    "ExecuteTime": {
     "end_time": "2020-12-25T19:43:55.073549Z",
     "start_time": "2020-12-25T19:43:55.066276Z"
    },
    "hidden": true
   },
   "outputs": [],
   "source": [
    "CURRENTPATH = os.getcwd()\n",
    "DATAPATH = os.path.join(CURRENTPATH, 'dat')\n",
    "INPATH = os.path.join(DATAPATH, 'in')\n",
    "RAWDATAPATH = os.path.join(INPATH, 'attempts.json')"
   ]
  },
  {
   "cell_type": "code",
   "execution_count": 18,
   "metadata": {
    "ExecuteTime": {
     "end_time": "2020-12-25T19:45:36.919765Z",
     "start_time": "2020-12-25T19:45:36.846990Z"
    },
    "hidden": true
   },
   "outputs": [],
   "source": [
    "?pd.read_json"
   ]
  },
  {
   "cell_type": "code",
   "execution_count": 35,
   "metadata": {
    "ExecuteTime": {
     "end_time": "2020-12-25T19:52:57.220180Z",
     "start_time": "2020-12-25T19:52:57.213153Z"
    },
    "hidden": true
   },
   "outputs": [],
   "source": [
    "with open(RAWDATAPATH) as f:\n",
    "    string = f.readlines()"
   ]
  },
  {
   "cell_type": "code",
   "execution_count": 43,
   "metadata": {
    "ExecuteTime": {
     "end_time": "2020-12-25T19:55:34.612194Z",
     "start_time": "2020-12-25T19:55:34.548405Z"
    },
    "hidden": true
   },
   "outputs": [],
   "source": [
    "newstr = []\n",
    "for i in string:\n",
    "    tmpstr = i.strip('\\n')\n",
    "    newstr.append(json.loads(tmpstr))\n"
   ]
  },
  {
   "cell_type": "code",
   "execution_count": 44,
   "metadata": {
    "ExecuteTime": {
     "end_time": "2020-12-25T19:55:43.360445Z",
     "start_time": "2020-12-25T19:55:43.326902Z"
    },
    "hidden": true
   },
   "outputs": [],
   "source": [
    "data = pd.DataFrame.from_records(newstr)"
   ]
  },
  {
   "cell_type": "code",
   "execution_count": 347,
   "metadata": {
    "ExecuteTime": {
     "end_time": "2020-12-25T22:58:47.670941Z",
     "start_time": "2020-12-25T22:58:47.663429Z"
    },
    "hidden": true
   },
   "outputs": [],
   "source": [
    "def date_enrichment(df, colName):\n",
    "    # day\n",
    "    df['Day'] = df[colName].dt.day\n",
    "    # month\n",
    "    df['Month'] = df[colName].dt.month\n",
    "    # year\n",
    "    df['Year'] = df[colName].dt.year\n",
    "    # hour\n",
    "    df['Start_hour'] = df[colName].dt.hour\n",
    "    # minute\n",
    "    df['Start_minute'] = df[colName].dt.minute\n",
    "    # second\n",
    "    df['Start_second'] = df[colName].dt.second\n",
    "    # Monday is 0 and Sunday is 6\n",
    "    df['Start_weekday'] = df[colName].dt.weekday\n",
    "    # week of the year\n",
    "    df['Start_week_of_year'] = df[colName].dt.week\n",
    "    df = df.drop(colName, axis=1)\n",
    "    return df"
   ]
  },
  {
   "cell_type": "markdown",
   "metadata": {},
   "source": [
    "# eda"
   ]
  },
  {
   "cell_type": "code",
   "execution_count": 45,
   "metadata": {
    "ExecuteTime": {
     "end_time": "2020-12-25T19:55:48.137931Z",
     "start_time": "2020-12-25T19:55:48.097251Z"
    }
   },
   "outputs": [
    {
     "data": {
      "text/html": [
       "<div>\n",
       "<style scoped>\n",
       "    .dataframe tbody tr th:only-of-type {\n",
       "        vertical-align: middle;\n",
       "    }\n",
       "\n",
       "    .dataframe tbody tr th {\n",
       "        vertical-align: top;\n",
       "    }\n",
       "\n",
       "    .dataframe thead th {\n",
       "        text-align: right;\n",
       "    }\n",
       "</style>\n",
       "<table border=\"1\" class=\"dataframe\">\n",
       "  <thead>\n",
       "    <tr style=\"text-align: right;\">\n",
       "      <th></th>\n",
       "      <th>answer</th>\n",
       "      <th>answer_is_correct</th>\n",
       "      <th>attempt_id</th>\n",
       "      <th>attempt_number</th>\n",
       "      <th>challenge_quiz</th>\n",
       "      <th>community_attempt</th>\n",
       "      <th>concept_quiz</th>\n",
       "      <th>daily_problem_quiz</th>\n",
       "      <th>django_app</th>\n",
       "      <th>django_model</th>\n",
       "      <th>...</th>\n",
       "      <th>only_preloaded</th>\n",
       "      <th>position</th>\n",
       "      <th>quiz_id</th>\n",
       "      <th>quiz_user_try_number</th>\n",
       "      <th>session_key</th>\n",
       "      <th>solvable_id</th>\n",
       "      <th>started</th>\n",
       "      <th>topic_id</th>\n",
       "      <th>user_id</th>\n",
       "      <th>viewed_solution</th>\n",
       "    </tr>\n",
       "  </thead>\n",
       "  <tbody>\n",
       "    <tr>\n",
       "      <th>0</th>\n",
       "      <td>Numerical data representing images of dogs and...</td>\n",
       "      <td>True</td>\n",
       "      <td>246437787</td>\n",
       "      <td>1</td>\n",
       "      <td>False</td>\n",
       "      <td>False</td>\n",
       "      <td>False</td>\n",
       "      <td>False</td>\n",
       "      <td>quizzes</td>\n",
       "      <td>quizproblemset</td>\n",
       "      <td>...</td>\n",
       "      <td>False</td>\n",
       "      <td>2.0</td>\n",
       "      <td>4786.0</td>\n",
       "      <td>1.0</td>\n",
       "      <td>tjywtkhwv4du6wccypfdk9kg44upk9i9</td>\n",
       "      <td>113115</td>\n",
       "      <td>2017-12-24T19:58:28.409597</td>\n",
       "      <td>15</td>\n",
       "      <td>5202480</td>\n",
       "      <td>False</td>\n",
       "    </tr>\n",
       "    <tr>\n",
       "      <th>1</th>\n",
       "      <td>Split the images randomly into two sets: one f...</td>\n",
       "      <td>True</td>\n",
       "      <td>246437788</td>\n",
       "      <td>1</td>\n",
       "      <td>False</td>\n",
       "      <td>False</td>\n",
       "      <td>False</td>\n",
       "      <td>False</td>\n",
       "      <td>quizzes</td>\n",
       "      <td>quizproblemset</td>\n",
       "      <td>...</td>\n",
       "      <td>False</td>\n",
       "      <td>3.0</td>\n",
       "      <td>4786.0</td>\n",
       "      <td>1.0</td>\n",
       "      <td>tjywtkhwv4du6wccypfdk9kg44upk9i9</td>\n",
       "      <td>113116</td>\n",
       "      <td>2017-12-24T20:00:47.137714</td>\n",
       "      <td>15</td>\n",
       "      <td>5202480</td>\n",
       "      <td>False</td>\n",
       "    </tr>\n",
       "    <tr>\n",
       "      <th>2</th>\n",
       "      <td>The green model (dashes)</td>\n",
       "      <td>True</td>\n",
       "      <td>246437789</td>\n",
       "      <td>1</td>\n",
       "      <td>False</td>\n",
       "      <td>False</td>\n",
       "      <td>False</td>\n",
       "      <td>False</td>\n",
       "      <td>quizzes</td>\n",
       "      <td>quizproblemset</td>\n",
       "      <td>...</td>\n",
       "      <td>False</td>\n",
       "      <td>5.0</td>\n",
       "      <td>4786.0</td>\n",
       "      <td>1.0</td>\n",
       "      <td>tjywtkhwv4du6wccypfdk9kg44upk9i9</td>\n",
       "      <td>113117</td>\n",
       "      <td>2017-12-24T20:01:53.487885</td>\n",
       "      <td>15</td>\n",
       "      <td>5202480</td>\n",
       "      <td>False</td>\n",
       "    </tr>\n",
       "    <tr>\n",
       "      <th>3</th>\n",
       "      <td>1</td>\n",
       "      <td>False</td>\n",
       "      <td>246437790</td>\n",
       "      <td>1</td>\n",
       "      <td>False</td>\n",
       "      <td>False</td>\n",
       "      <td>False</td>\n",
       "      <td>False</td>\n",
       "      <td>quizzes</td>\n",
       "      <td>quizproblemset</td>\n",
       "      <td>...</td>\n",
       "      <td>False</td>\n",
       "      <td>7.0</td>\n",
       "      <td>4786.0</td>\n",
       "      <td>1.0</td>\n",
       "      <td>tjywtkhwv4du6wccypfdk9kg44upk9i9</td>\n",
       "      <td>113118</td>\n",
       "      <td>2017-12-24T20:02:48.636948</td>\n",
       "      <td>15</td>\n",
       "      <td>5202480</td>\n",
       "      <td>True</td>\n",
       "    </tr>\n",
       "    <tr>\n",
       "      <th>4</th>\n",
       "      <td>Predicting someone’s gender from their name</td>\n",
       "      <td>True</td>\n",
       "      <td>246437791</td>\n",
       "      <td>1</td>\n",
       "      <td>False</td>\n",
       "      <td>False</td>\n",
       "      <td>False</td>\n",
       "      <td>False</td>\n",
       "      <td>quizzes</td>\n",
       "      <td>quizproblemset</td>\n",
       "      <td>...</td>\n",
       "      <td>False</td>\n",
       "      <td>8.0</td>\n",
       "      <td>4786.0</td>\n",
       "      <td>1.0</td>\n",
       "      <td>tjywtkhwv4du6wccypfdk9kg44upk9i9</td>\n",
       "      <td>113119</td>\n",
       "      <td>2017-12-24T20:04:46.078238</td>\n",
       "      <td>15</td>\n",
       "      <td>5202480</td>\n",
       "      <td>False</td>\n",
       "    </tr>\n",
       "  </tbody>\n",
       "</table>\n",
       "<p>5 rows × 24 columns</p>\n",
       "</div>"
      ],
      "text/plain": [
       "                                              answer  answer_is_correct  \\\n",
       "0  Numerical data representing images of dogs and...               True   \n",
       "1  Split the images randomly into two sets: one f...               True   \n",
       "2                           The green model (dashes)               True   \n",
       "3                                                  1              False   \n",
       "4        Predicting someone’s gender from their name               True   \n",
       "\n",
       "   attempt_id  attempt_number  challenge_quiz  community_attempt  \\\n",
       "0   246437787               1           False              False   \n",
       "1   246437788               1           False              False   \n",
       "2   246437789               1           False              False   \n",
       "3   246437790               1           False              False   \n",
       "4   246437791               1           False              False   \n",
       "\n",
       "   concept_quiz  daily_problem_quiz django_app    django_model  ...  \\\n",
       "0         False               False    quizzes  quizproblemset  ...   \n",
       "1         False               False    quizzes  quizproblemset  ...   \n",
       "2         False               False    quizzes  quizproblemset  ...   \n",
       "3         False               False    quizzes  quizproblemset  ...   \n",
       "4         False               False    quizzes  quizproblemset  ...   \n",
       "\n",
       "   only_preloaded  position  quiz_id  quiz_user_try_number  \\\n",
       "0           False       2.0   4786.0                   1.0   \n",
       "1           False       3.0   4786.0                   1.0   \n",
       "2           False       5.0   4786.0                   1.0   \n",
       "3           False       7.0   4786.0                   1.0   \n",
       "4           False       8.0   4786.0                   1.0   \n",
       "\n",
       "                        session_key  solvable_id                     started  \\\n",
       "0  tjywtkhwv4du6wccypfdk9kg44upk9i9       113115  2017-12-24T19:58:28.409597   \n",
       "1  tjywtkhwv4du6wccypfdk9kg44upk9i9       113116  2017-12-24T20:00:47.137714   \n",
       "2  tjywtkhwv4du6wccypfdk9kg44upk9i9       113117  2017-12-24T20:01:53.487885   \n",
       "3  tjywtkhwv4du6wccypfdk9kg44upk9i9       113118  2017-12-24T20:02:48.636948   \n",
       "4  tjywtkhwv4du6wccypfdk9kg44upk9i9       113119  2017-12-24T20:04:46.078238   \n",
       "\n",
       "   topic_id  user_id  viewed_solution  \n",
       "0        15  5202480            False  \n",
       "1        15  5202480            False  \n",
       "2        15  5202480            False  \n",
       "3        15  5202480             True  \n",
       "4        15  5202480            False  \n",
       "\n",
       "[5 rows x 24 columns]"
      ]
     },
     "execution_count": 45,
     "metadata": {},
     "output_type": "execute_result"
    }
   ],
   "source": [
    "data.head()"
   ]
  },
  {
   "cell_type": "code",
   "execution_count": 93,
   "metadata": {
    "ExecuteTime": {
     "end_time": "2020-12-25T21:18:19.564353Z",
     "start_time": "2020-12-25T21:18:19.556350Z"
    }
   },
   "outputs": [
    {
     "data": {
      "text/plain": [
       "answer                   object\n",
       "answer_is_correct          bool\n",
       "attempt_id                int64\n",
       "attempt_number            int64\n",
       "challenge_quiz             bool\n",
       "community_attempt          bool\n",
       "concept_quiz               bool\n",
       "daily_problem_quiz         bool\n",
       "django_app               object\n",
       "django_model             object\n",
       "exploration_quiz           bool\n",
       "flags                     int64\n",
       "object_id               float64\n",
       "old_practice_attempt       bool\n",
       "only_preloaded             bool\n",
       "position                float64\n",
       "quiz_id                 float64\n",
       "quiz_user_try_number    float64\n",
       "session_key              object\n",
       "solvable_id               int64\n",
       "started                  object\n",
       "topic_id                  int64\n",
       "user_id                   int64\n",
       "viewed_solution            bool\n",
       "dtype: object"
      ]
     },
     "execution_count": 93,
     "metadata": {},
     "output_type": "execute_result"
    }
   ],
   "source": [
    "data.dtypes"
   ]
  },
  {
   "cell_type": "code",
   "execution_count": 47,
   "metadata": {
    "ExecuteTime": {
     "end_time": "2020-12-25T19:56:48.885583Z",
     "start_time": "2020-12-25T19:56:48.879856Z"
    }
   },
   "outputs": [
    {
     "data": {
      "text/plain": [
       "Index(['answer', 'answer_is_correct', 'attempt_id', 'attempt_number',\n",
       "       'challenge_quiz', 'community_attempt', 'concept_quiz',\n",
       "       'daily_problem_quiz', 'django_app', 'django_model', 'exploration_quiz',\n",
       "       'flags', 'object_id', 'old_practice_attempt', 'only_preloaded',\n",
       "       'position', 'quiz_id', 'quiz_user_try_number', 'session_key',\n",
       "       'solvable_id', 'started', 'topic_id', 'user_id', 'viewed_solution'],\n",
       "      dtype='object')"
      ]
     },
     "execution_count": 47,
     "metadata": {},
     "output_type": "execute_result"
    }
   ],
   "source": [
    "data.columns"
   ]
  },
  {
   "cell_type": "code",
   "execution_count": 70,
   "metadata": {
    "ExecuteTime": {
     "end_time": "2020-12-25T20:09:27.110981Z",
     "start_time": "2020-12-25T20:09:27.102010Z"
    }
   },
   "outputs": [
    {
     "data": {
      "text/plain": [
       "False    3426\n",
       "True      270\n",
       "Name: daily_problem_quiz, dtype: int64"
      ]
     },
     "execution_count": 70,
     "metadata": {},
     "output_type": "execute_result"
    }
   ],
   "source": [
    "data.daily_problem_quiz.value_counts()"
   ]
  },
  {
   "cell_type": "code",
   "execution_count": 81,
   "metadata": {
    "ExecuteTime": {
     "end_time": "2020-12-25T20:15:08.948960Z",
     "start_time": "2020-12-25T20:15:08.875352Z"
    }
   },
   "outputs": [],
   "source": [
    "data.describe"
   ]
  },
  {
   "cell_type": "code",
   "execution_count": 92,
   "metadata": {
    "ExecuteTime": {
     "end_time": "2020-12-25T21:17:37.618466Z",
     "start_time": "2020-12-25T21:17:37.557928Z"
    }
   },
   "outputs": [
    {
     "data": {
      "text/html": [
       "<div>\n",
       "<style scoped>\n",
       "    .dataframe tbody tr th:only-of-type {\n",
       "        vertical-align: middle;\n",
       "    }\n",
       "\n",
       "    .dataframe tbody tr th {\n",
       "        vertical-align: top;\n",
       "    }\n",
       "\n",
       "    .dataframe thead th {\n",
       "        text-align: right;\n",
       "    }\n",
       "</style>\n",
       "<table border=\"1\" class=\"dataframe\">\n",
       "  <thead>\n",
       "    <tr style=\"text-align: right;\">\n",
       "      <th></th>\n",
       "      <th>answer</th>\n",
       "      <th>answer_is_correct</th>\n",
       "      <th>challenge_quiz</th>\n",
       "      <th>community_attempt</th>\n",
       "      <th>concept_quiz</th>\n",
       "      <th>daily_problem_quiz</th>\n",
       "      <th>django_app</th>\n",
       "      <th>django_model</th>\n",
       "      <th>exploration_quiz</th>\n",
       "      <th>old_practice_attempt</th>\n",
       "      <th>only_preloaded</th>\n",
       "      <th>session_key</th>\n",
       "      <th>started</th>\n",
       "      <th>viewed_solution</th>\n",
       "    </tr>\n",
       "  </thead>\n",
       "  <tbody>\n",
       "    <tr>\n",
       "      <th>count</th>\n",
       "      <td>3696</td>\n",
       "      <td>3696</td>\n",
       "      <td>3696</td>\n",
       "      <td>3696</td>\n",
       "      <td>3696</td>\n",
       "      <td>3696</td>\n",
       "      <td>3696</td>\n",
       "      <td>3696</td>\n",
       "      <td>3696</td>\n",
       "      <td>3696</td>\n",
       "      <td>3696</td>\n",
       "      <td>3696</td>\n",
       "      <td>3696</td>\n",
       "      <td>3696</td>\n",
       "    </tr>\n",
       "    <tr>\n",
       "      <th>unique</th>\n",
       "      <td>1863</td>\n",
       "      <td>2</td>\n",
       "      <td>2</td>\n",
       "      <td>2</td>\n",
       "      <td>2</td>\n",
       "      <td>2</td>\n",
       "      <td>2</td>\n",
       "      <td>2</td>\n",
       "      <td>2</td>\n",
       "      <td>1</td>\n",
       "      <td>2</td>\n",
       "      <td>62</td>\n",
       "      <td>3696</td>\n",
       "      <td>2</td>\n",
       "    </tr>\n",
       "    <tr>\n",
       "      <th>top</th>\n",
       "      <td></td>\n",
       "      <td>True</td>\n",
       "      <td>False</td>\n",
       "      <td>False</td>\n",
       "      <td>False</td>\n",
       "      <td>False</td>\n",
       "      <td>quizzes</td>\n",
       "      <td>quizproblemset</td>\n",
       "      <td>True</td>\n",
       "      <td>False</td>\n",
       "      <td>False</td>\n",
       "      <td>83j00rdz4mg5fbba5mv89si1kt2cxlq5</td>\n",
       "      <td>2018-04-25T21:11:29.336455</td>\n",
       "      <td>False</td>\n",
       "    </tr>\n",
       "    <tr>\n",
       "      <th>freq</th>\n",
       "      <td>672</td>\n",
       "      <td>2600</td>\n",
       "      <td>3691</td>\n",
       "      <td>3676</td>\n",
       "      <td>3636</td>\n",
       "      <td>3426</td>\n",
       "      <td>3406</td>\n",
       "      <td>3406</td>\n",
       "      <td>3131</td>\n",
       "      <td>3696</td>\n",
       "      <td>3235</td>\n",
       "      <td>760</td>\n",
       "      <td>1</td>\n",
       "      <td>3440</td>\n",
       "    </tr>\n",
       "  </tbody>\n",
       "</table>\n",
       "</div>"
      ],
      "text/plain": [
       "       answer answer_is_correct challenge_quiz community_attempt concept_quiz  \\\n",
       "count    3696              3696           3696              3696         3696   \n",
       "unique   1863                 2              2                 2            2   \n",
       "top                        True          False             False        False   \n",
       "freq      672              2600           3691              3676         3636   \n",
       "\n",
       "       daily_problem_quiz django_app    django_model exploration_quiz  \\\n",
       "count                3696       3696            3696             3696   \n",
       "unique                  2          2               2                2   \n",
       "top                 False    quizzes  quizproblemset             True   \n",
       "freq                 3426       3406            3406             3131   \n",
       "\n",
       "       old_practice_attempt only_preloaded                       session_key  \\\n",
       "count                  3696           3696                              3696   \n",
       "unique                    1              2                                62   \n",
       "top                   False          False  83j00rdz4mg5fbba5mv89si1kt2cxlq5   \n",
       "freq                   3696           3235                               760   \n",
       "\n",
       "                           started viewed_solution  \n",
       "count                         3696            3696  \n",
       "unique                        3696               2  \n",
       "top     2018-04-25T21:11:29.336455           False  \n",
       "freq                             1            3440  "
      ]
     },
     "execution_count": 92,
     "metadata": {},
     "output_type": "execute_result"
    }
   ],
   "source": [
    "data.describe(include=[\"object\", \"bool\"])"
   ]
  },
  {
   "cell_type": "code",
   "execution_count": 86,
   "metadata": {
    "ExecuteTime": {
     "end_time": "2020-12-25T20:17:56.413522Z",
     "start_time": "2020-12-25T20:17:56.355335Z"
    },
    "scrolled": true
   },
   "outputs": [
    {
     "data": {
      "text/html": [
       "<div>\n",
       "<style scoped>\n",
       "    .dataframe tbody tr th:only-of-type {\n",
       "        vertical-align: middle;\n",
       "    }\n",
       "\n",
       "    .dataframe tbody tr th {\n",
       "        vertical-align: top;\n",
       "    }\n",
       "\n",
       "    .dataframe thead th {\n",
       "        text-align: right;\n",
       "    }\n",
       "</style>\n",
       "<table border=\"1\" class=\"dataframe\">\n",
       "  <thead>\n",
       "    <tr style=\"text-align: right;\">\n",
       "      <th></th>\n",
       "      <th>answer</th>\n",
       "      <th>answer_is_correct</th>\n",
       "      <th>challenge_quiz</th>\n",
       "      <th>community_attempt</th>\n",
       "      <th>concept_quiz</th>\n",
       "      <th>daily_problem_quiz</th>\n",
       "      <th>django_app</th>\n",
       "      <th>django_model</th>\n",
       "      <th>exploration_quiz</th>\n",
       "      <th>old_practice_attempt</th>\n",
       "      <th>only_preloaded</th>\n",
       "      <th>session_key</th>\n",
       "      <th>started</th>\n",
       "      <th>viewed_solution</th>\n",
       "    </tr>\n",
       "  </thead>\n",
       "  <tbody>\n",
       "    <tr>\n",
       "      <th>count</th>\n",
       "      <td>3696</td>\n",
       "      <td>3696</td>\n",
       "      <td>3696</td>\n",
       "      <td>3696</td>\n",
       "      <td>3696</td>\n",
       "      <td>3696</td>\n",
       "      <td>3696</td>\n",
       "      <td>3696</td>\n",
       "      <td>3696</td>\n",
       "      <td>3696</td>\n",
       "      <td>3696</td>\n",
       "      <td>3696</td>\n",
       "      <td>3696</td>\n",
       "      <td>3696</td>\n",
       "    </tr>\n",
       "    <tr>\n",
       "      <th>unique</th>\n",
       "      <td>1863</td>\n",
       "      <td>2</td>\n",
       "      <td>2</td>\n",
       "      <td>2</td>\n",
       "      <td>2</td>\n",
       "      <td>2</td>\n",
       "      <td>2</td>\n",
       "      <td>2</td>\n",
       "      <td>2</td>\n",
       "      <td>1</td>\n",
       "      <td>2</td>\n",
       "      <td>62</td>\n",
       "      <td>3696</td>\n",
       "      <td>2</td>\n",
       "    </tr>\n",
       "    <tr>\n",
       "      <th>top</th>\n",
       "      <td></td>\n",
       "      <td>True</td>\n",
       "      <td>False</td>\n",
       "      <td>False</td>\n",
       "      <td>False</td>\n",
       "      <td>False</td>\n",
       "      <td>quizzes</td>\n",
       "      <td>quizproblemset</td>\n",
       "      <td>True</td>\n",
       "      <td>False</td>\n",
       "      <td>False</td>\n",
       "      <td>83j00rdz4mg5fbba5mv89si1kt2cxlq5</td>\n",
       "      <td>2018-04-25T21:11:29.336455</td>\n",
       "      <td>False</td>\n",
       "    </tr>\n",
       "    <tr>\n",
       "      <th>freq</th>\n",
       "      <td>672</td>\n",
       "      <td>2600</td>\n",
       "      <td>3691</td>\n",
       "      <td>3676</td>\n",
       "      <td>3636</td>\n",
       "      <td>3426</td>\n",
       "      <td>3406</td>\n",
       "      <td>3406</td>\n",
       "      <td>3131</td>\n",
       "      <td>3696</td>\n",
       "      <td>3235</td>\n",
       "      <td>760</td>\n",
       "      <td>1</td>\n",
       "      <td>3440</td>\n",
       "    </tr>\n",
       "  </tbody>\n",
       "</table>\n",
       "</div>"
      ],
      "text/plain": [
       "       answer answer_is_correct challenge_quiz community_attempt concept_quiz  \\\n",
       "count    3696              3696           3696              3696         3696   \n",
       "unique   1863                 2              2                 2            2   \n",
       "top                        True          False             False        False   \n",
       "freq      672              2600           3691              3676         3636   \n",
       "\n",
       "       daily_problem_quiz django_app    django_model exploration_quiz  \\\n",
       "count                3696       3696            3696             3696   \n",
       "unique                  2          2               2                2   \n",
       "top                 False    quizzes  quizproblemset             True   \n",
       "freq                 3426       3406            3406             3131   \n",
       "\n",
       "       old_practice_attempt only_preloaded                       session_key  \\\n",
       "count                  3696           3696                              3696   \n",
       "unique                    1              2                                62   \n",
       "top                   False          False  83j00rdz4mg5fbba5mv89si1kt2cxlq5   \n",
       "freq                   3696           3235                               760   \n",
       "\n",
       "                           started viewed_solution  \n",
       "count                         3696            3696  \n",
       "unique                        3696               2  \n",
       "top     2018-04-25T21:11:29.336455           False  \n",
       "freq                             1            3440  "
      ]
     },
     "execution_count": 86,
     "metadata": {},
     "output_type": "execute_result"
    }
   ],
   "source": [
    "data.describe(exclude=['int', 'float'])"
   ]
  },
  {
   "cell_type": "code",
   "execution_count": 67,
   "metadata": {
    "ExecuteTime": {
     "end_time": "2020-12-25T20:07:01.940004Z",
     "start_time": "2020-12-25T20:07:01.889073Z"
    },
    "scrolled": true
   },
   "outputs": [
    {
     "data": {
      "text/html": [
       "<div>\n",
       "<style scoped>\n",
       "    .dataframe tbody tr th:only-of-type {\n",
       "        vertical-align: middle;\n",
       "    }\n",
       "\n",
       "    .dataframe tbody tr th {\n",
       "        vertical-align: top;\n",
       "    }\n",
       "\n",
       "    .dataframe thead th {\n",
       "        text-align: right;\n",
       "    }\n",
       "</style>\n",
       "<table border=\"1\" class=\"dataframe\">\n",
       "  <thead>\n",
       "    <tr style=\"text-align: right;\">\n",
       "      <th></th>\n",
       "      <th>attempt_id</th>\n",
       "      <th>attempt_number</th>\n",
       "      <th>flags</th>\n",
       "      <th>object_id</th>\n",
       "      <th>position</th>\n",
       "      <th>quiz_id</th>\n",
       "      <th>quiz_user_try_number</th>\n",
       "      <th>solvable_id</th>\n",
       "      <th>topic_id</th>\n",
       "      <th>user_id</th>\n",
       "    </tr>\n",
       "  </thead>\n",
       "  <tbody>\n",
       "    <tr>\n",
       "      <th>count</th>\n",
       "      <td>3.696000e+03</td>\n",
       "      <td>3696.000000</td>\n",
       "      <td>3696.000000</td>\n",
       "      <td>3406.000000</td>\n",
       "      <td>3406.000000</td>\n",
       "      <td>3406.000000</td>\n",
       "      <td>3406.000000</td>\n",
       "      <td>3696.000000</td>\n",
       "      <td>3696.000000</td>\n",
       "      <td>3696.0</td>\n",
       "    </tr>\n",
       "    <tr>\n",
       "      <th>mean</th>\n",
       "      <td>3.737833e+08</td>\n",
       "      <td>0.819535</td>\n",
       "      <td>12.417749</td>\n",
       "      <td>51226.075455</td>\n",
       "      <td>5.258955</td>\n",
       "      <td>5993.635643</td>\n",
       "      <td>1.270699</td>\n",
       "      <td>135230.992695</td>\n",
       "      <td>20.935877</td>\n",
       "      <td>5202480.0</td>\n",
       "    </tr>\n",
       "    <tr>\n",
       "      <th>std</th>\n",
       "      <td>8.491806e+07</td>\n",
       "      <td>0.386031</td>\n",
       "      <td>33.436738</td>\n",
       "      <td>20892.499234</td>\n",
       "      <td>2.895924</td>\n",
       "      <td>1229.849326</td>\n",
       "      <td>0.617992</td>\n",
       "      <td>21529.951260</td>\n",
       "      <td>21.798771</td>\n",
       "      <td>0.0</td>\n",
       "    </tr>\n",
       "    <tr>\n",
       "      <th>min</th>\n",
       "      <td>2.464378e+08</td>\n",
       "      <td>0.000000</td>\n",
       "      <td>0.000000</td>\n",
       "      <td>65.000000</td>\n",
       "      <td>1.000000</td>\n",
       "      <td>1541.000000</td>\n",
       "      <td>1.000000</td>\n",
       "      <td>690.000000</td>\n",
       "      <td>5.000000</td>\n",
       "      <td>5202480.0</td>\n",
       "    </tr>\n",
       "    <tr>\n",
       "      <th>25%</th>\n",
       "      <td>2.961306e+08</td>\n",
       "      <td>1.000000</td>\n",
       "      <td>0.000000</td>\n",
       "      <td>40456.000000</td>\n",
       "      <td>3.000000</td>\n",
       "      <td>5150.000000</td>\n",
       "      <td>1.000000</td>\n",
       "      <td>120172.500000</td>\n",
       "      <td>14.000000</td>\n",
       "      <td>5202480.0</td>\n",
       "    </tr>\n",
       "    <tr>\n",
       "      <th>50%</th>\n",
       "      <td>3.786215e+08</td>\n",
       "      <td>1.000000</td>\n",
       "      <td>0.000000</td>\n",
       "      <td>47928.500000</td>\n",
       "      <td>5.000000</td>\n",
       "      <td>5857.000000</td>\n",
       "      <td>1.000000</td>\n",
       "      <td>132875.000000</td>\n",
       "      <td>15.000000</td>\n",
       "      <td>5202480.0</td>\n",
       "    </tr>\n",
       "    <tr>\n",
       "      <th>75%</th>\n",
       "      <td>4.495368e+08</td>\n",
       "      <td>1.000000</td>\n",
       "      <td>8.000000</td>\n",
       "      <td>57983.500000</td>\n",
       "      <td>7.000000</td>\n",
       "      <td>6423.000000</td>\n",
       "      <td>1.000000</td>\n",
       "      <td>148482.000000</td>\n",
       "      <td>18.000000</td>\n",
       "      <td>5202480.0</td>\n",
       "    </tr>\n",
       "    <tr>\n",
       "      <th>max</th>\n",
       "      <td>4.990481e+08</td>\n",
       "      <td>2.000000</td>\n",
       "      <td>128.000000</td>\n",
       "      <td>130471.000000</td>\n",
       "      <td>16.000000</td>\n",
       "      <td>8925.000000</td>\n",
       "      <td>6.000000</td>\n",
       "      <td>177886.000000</td>\n",
       "      <td>162.000000</td>\n",
       "      <td>5202480.0</td>\n",
       "    </tr>\n",
       "  </tbody>\n",
       "</table>\n",
       "</div>"
      ],
      "text/plain": [
       "         attempt_id  attempt_number        flags      object_id     position  \\\n",
       "count  3.696000e+03     3696.000000  3696.000000    3406.000000  3406.000000   \n",
       "mean   3.737833e+08        0.819535    12.417749   51226.075455     5.258955   \n",
       "std    8.491806e+07        0.386031    33.436738   20892.499234     2.895924   \n",
       "min    2.464378e+08        0.000000     0.000000      65.000000     1.000000   \n",
       "25%    2.961306e+08        1.000000     0.000000   40456.000000     3.000000   \n",
       "50%    3.786215e+08        1.000000     0.000000   47928.500000     5.000000   \n",
       "75%    4.495368e+08        1.000000     8.000000   57983.500000     7.000000   \n",
       "max    4.990481e+08        2.000000   128.000000  130471.000000    16.000000   \n",
       "\n",
       "           quiz_id  quiz_user_try_number    solvable_id     topic_id  \\\n",
       "count  3406.000000           3406.000000    3696.000000  3696.000000   \n",
       "mean   5993.635643              1.270699  135230.992695    20.935877   \n",
       "std    1229.849326              0.617992   21529.951260    21.798771   \n",
       "min    1541.000000              1.000000     690.000000     5.000000   \n",
       "25%    5150.000000              1.000000  120172.500000    14.000000   \n",
       "50%    5857.000000              1.000000  132875.000000    15.000000   \n",
       "75%    6423.000000              1.000000  148482.000000    18.000000   \n",
       "max    8925.000000              6.000000  177886.000000   162.000000   \n",
       "\n",
       "         user_id  \n",
       "count     3696.0  \n",
       "mean   5202480.0  \n",
       "std          0.0  \n",
       "min    5202480.0  \n",
       "25%    5202480.0  \n",
       "50%    5202480.0  \n",
       "75%    5202480.0  \n",
       "max    5202480.0  "
      ]
     },
     "execution_count": 67,
     "metadata": {},
     "output_type": "execute_result"
    }
   ],
   "source": [
    "data.describe()"
   ]
  },
  {
   "cell_type": "code",
   "execution_count": null,
   "metadata": {},
   "outputs": [],
   "source": []
  },
  {
   "cell_type": "code",
   "execution_count": 59,
   "metadata": {
    "ExecuteTime": {
     "end_time": "2020-12-25T20:00:27.799100Z",
     "start_time": "2020-12-25T20:00:27.790725Z"
    }
   },
   "outputs": [],
   "source": [
    "total = data[data.attempt_number>0].shape[0]"
   ]
  },
  {
   "cell_type": "code",
   "execution_count": 60,
   "metadata": {
    "ExecuteTime": {
     "end_time": "2020-12-25T20:00:29.188575Z",
     "start_time": "2020-12-25T20:00:29.182572Z"
    }
   },
   "outputs": [],
   "source": [
    "correct = data.answer_is_correct.sum()"
   ]
  },
  {
   "cell_type": "code",
   "execution_count": 61,
   "metadata": {
    "ExecuteTime": {
     "end_time": "2020-12-25T20:00:29.477827Z",
     "start_time": "2020-12-25T20:00:29.473487Z"
    }
   },
   "outputs": [
    {
     "data": {
      "text/plain": [
       "0.8589362405021473"
      ]
     },
     "execution_count": 61,
     "metadata": {},
     "output_type": "execute_result"
    }
   ],
   "source": [
    "correct/total"
   ]
  },
  {
   "cell_type": "code",
   "execution_count": 62,
   "metadata": {
    "ExecuteTime": {
     "end_time": "2020-12-25T20:00:30.571979Z",
     "start_time": "2020-12-25T20:00:30.568607Z"
    }
   },
   "outputs": [
    {
     "name": "stdout",
     "output_type": "stream",
     "text": [
      "2600 3027\n"
     ]
    }
   ],
   "source": [
    "print(correct, total)"
   ]
  },
  {
   "cell_type": "code",
   "execution_count": 65,
   "metadata": {
    "ExecuteTime": {
     "end_time": "2020-12-25T20:05:46.989289Z",
     "start_time": "2020-12-25T20:05:46.981864Z"
    },
    "scrolled": true
   },
   "outputs": [
    {
     "data": {
      "text/plain": [
       "attempt_number\n",
       "0     669\n",
       "1    3025\n",
       "2       2\n",
       "dtype: int64"
      ]
     },
     "execution_count": 65,
     "metadata": {},
     "output_type": "execute_result"
    }
   ],
   "source": [
    "data.groupby(\"attempt_number\").size()"
   ]
  },
  {
   "cell_type": "markdown",
   "metadata": {},
   "source": [
    "# pre-processing"
   ]
  },
  {
   "cell_type": "code",
   "execution_count": 301,
   "metadata": {
    "ExecuteTime": {
     "end_time": "2020-12-25T22:56:11.099827Z",
     "start_time": "2020-12-25T22:56:11.065023Z"
    }
   },
   "outputs": [
    {
     "data": {
      "text/html": [
       "<div>\n",
       "<style scoped>\n",
       "    .dataframe tbody tr th:only-of-type {\n",
       "        vertical-align: middle;\n",
       "    }\n",
       "\n",
       "    .dataframe tbody tr th {\n",
       "        vertical-align: top;\n",
       "    }\n",
       "\n",
       "    .dataframe thead th {\n",
       "        text-align: right;\n",
       "    }\n",
       "</style>\n",
       "<table border=\"1\" class=\"dataframe\">\n",
       "  <thead>\n",
       "    <tr style=\"text-align: right;\">\n",
       "      <th></th>\n",
       "      <th>answer</th>\n",
       "      <th>answer_is_correct</th>\n",
       "      <th>attempt_id</th>\n",
       "      <th>attempt_number</th>\n",
       "      <th>challenge_quiz</th>\n",
       "      <th>community_attempt</th>\n",
       "      <th>concept_quiz</th>\n",
       "      <th>daily_problem_quiz</th>\n",
       "      <th>django_app</th>\n",
       "      <th>django_model</th>\n",
       "      <th>...</th>\n",
       "      <th>only_preloaded</th>\n",
       "      <th>position</th>\n",
       "      <th>quiz_id</th>\n",
       "      <th>quiz_user_try_number</th>\n",
       "      <th>session_key</th>\n",
       "      <th>solvable_id</th>\n",
       "      <th>started</th>\n",
       "      <th>topic_id</th>\n",
       "      <th>user_id</th>\n",
       "      <th>viewed_solution</th>\n",
       "    </tr>\n",
       "  </thead>\n",
       "  <tbody>\n",
       "    <tr>\n",
       "      <th>0</th>\n",
       "      <td>Numerical data representing images of dogs and...</td>\n",
       "      <td>True</td>\n",
       "      <td>246437787</td>\n",
       "      <td>1</td>\n",
       "      <td>False</td>\n",
       "      <td>False</td>\n",
       "      <td>False</td>\n",
       "      <td>False</td>\n",
       "      <td>quizzes</td>\n",
       "      <td>quizproblemset</td>\n",
       "      <td>...</td>\n",
       "      <td>False</td>\n",
       "      <td>2.0</td>\n",
       "      <td>4786.0</td>\n",
       "      <td>1.0</td>\n",
       "      <td>tjywtkhwv4du6wccypfdk9kg44upk9i9</td>\n",
       "      <td>113115</td>\n",
       "      <td>2017-12-24T19:58:28.409597</td>\n",
       "      <td>15</td>\n",
       "      <td>5202480</td>\n",
       "      <td>False</td>\n",
       "    </tr>\n",
       "    <tr>\n",
       "      <th>1</th>\n",
       "      <td>Split the images randomly into two sets: one f...</td>\n",
       "      <td>True</td>\n",
       "      <td>246437788</td>\n",
       "      <td>1</td>\n",
       "      <td>False</td>\n",
       "      <td>False</td>\n",
       "      <td>False</td>\n",
       "      <td>False</td>\n",
       "      <td>quizzes</td>\n",
       "      <td>quizproblemset</td>\n",
       "      <td>...</td>\n",
       "      <td>False</td>\n",
       "      <td>3.0</td>\n",
       "      <td>4786.0</td>\n",
       "      <td>1.0</td>\n",
       "      <td>tjywtkhwv4du6wccypfdk9kg44upk9i9</td>\n",
       "      <td>113116</td>\n",
       "      <td>2017-12-24T20:00:47.137714</td>\n",
       "      <td>15</td>\n",
       "      <td>5202480</td>\n",
       "      <td>False</td>\n",
       "    </tr>\n",
       "    <tr>\n",
       "      <th>2</th>\n",
       "      <td>The green model (dashes)</td>\n",
       "      <td>True</td>\n",
       "      <td>246437789</td>\n",
       "      <td>1</td>\n",
       "      <td>False</td>\n",
       "      <td>False</td>\n",
       "      <td>False</td>\n",
       "      <td>False</td>\n",
       "      <td>quizzes</td>\n",
       "      <td>quizproblemset</td>\n",
       "      <td>...</td>\n",
       "      <td>False</td>\n",
       "      <td>5.0</td>\n",
       "      <td>4786.0</td>\n",
       "      <td>1.0</td>\n",
       "      <td>tjywtkhwv4du6wccypfdk9kg44upk9i9</td>\n",
       "      <td>113117</td>\n",
       "      <td>2017-12-24T20:01:53.487885</td>\n",
       "      <td>15</td>\n",
       "      <td>5202480</td>\n",
       "      <td>False</td>\n",
       "    </tr>\n",
       "    <tr>\n",
       "      <th>3</th>\n",
       "      <td>1</td>\n",
       "      <td>False</td>\n",
       "      <td>246437790</td>\n",
       "      <td>1</td>\n",
       "      <td>False</td>\n",
       "      <td>False</td>\n",
       "      <td>False</td>\n",
       "      <td>False</td>\n",
       "      <td>quizzes</td>\n",
       "      <td>quizproblemset</td>\n",
       "      <td>...</td>\n",
       "      <td>False</td>\n",
       "      <td>7.0</td>\n",
       "      <td>4786.0</td>\n",
       "      <td>1.0</td>\n",
       "      <td>tjywtkhwv4du6wccypfdk9kg44upk9i9</td>\n",
       "      <td>113118</td>\n",
       "      <td>2017-12-24T20:02:48.636948</td>\n",
       "      <td>15</td>\n",
       "      <td>5202480</td>\n",
       "      <td>True</td>\n",
       "    </tr>\n",
       "    <tr>\n",
       "      <th>4</th>\n",
       "      <td>Predicting someone’s gender from their name</td>\n",
       "      <td>True</td>\n",
       "      <td>246437791</td>\n",
       "      <td>1</td>\n",
       "      <td>False</td>\n",
       "      <td>False</td>\n",
       "      <td>False</td>\n",
       "      <td>False</td>\n",
       "      <td>quizzes</td>\n",
       "      <td>quizproblemset</td>\n",
       "      <td>...</td>\n",
       "      <td>False</td>\n",
       "      <td>8.0</td>\n",
       "      <td>4786.0</td>\n",
       "      <td>1.0</td>\n",
       "      <td>tjywtkhwv4du6wccypfdk9kg44upk9i9</td>\n",
       "      <td>113119</td>\n",
       "      <td>2017-12-24T20:04:46.078238</td>\n",
       "      <td>15</td>\n",
       "      <td>5202480</td>\n",
       "      <td>False</td>\n",
       "    </tr>\n",
       "  </tbody>\n",
       "</table>\n",
       "<p>5 rows × 24 columns</p>\n",
       "</div>"
      ],
      "text/plain": [
       "                                              answer  answer_is_correct  \\\n",
       "0  Numerical data representing images of dogs and...               True   \n",
       "1  Split the images randomly into two sets: one f...               True   \n",
       "2                           The green model (dashes)               True   \n",
       "3                                                  1              False   \n",
       "4        Predicting someone’s gender from their name               True   \n",
       "\n",
       "   attempt_id  attempt_number  challenge_quiz  community_attempt  \\\n",
       "0   246437787               1           False              False   \n",
       "1   246437788               1           False              False   \n",
       "2   246437789               1           False              False   \n",
       "3   246437790               1           False              False   \n",
       "4   246437791               1           False              False   \n",
       "\n",
       "   concept_quiz  daily_problem_quiz django_app    django_model  ...  \\\n",
       "0         False               False    quizzes  quizproblemset  ...   \n",
       "1         False               False    quizzes  quizproblemset  ...   \n",
       "2         False               False    quizzes  quizproblemset  ...   \n",
       "3         False               False    quizzes  quizproblemset  ...   \n",
       "4         False               False    quizzes  quizproblemset  ...   \n",
       "\n",
       "   only_preloaded  position  quiz_id  quiz_user_try_number  \\\n",
       "0           False       2.0   4786.0                   1.0   \n",
       "1           False       3.0   4786.0                   1.0   \n",
       "2           False       5.0   4786.0                   1.0   \n",
       "3           False       7.0   4786.0                   1.0   \n",
       "4           False       8.0   4786.0                   1.0   \n",
       "\n",
       "                        session_key  solvable_id                     started  \\\n",
       "0  tjywtkhwv4du6wccypfdk9kg44upk9i9       113115  2017-12-24T19:58:28.409597   \n",
       "1  tjywtkhwv4du6wccypfdk9kg44upk9i9       113116  2017-12-24T20:00:47.137714   \n",
       "2  tjywtkhwv4du6wccypfdk9kg44upk9i9       113117  2017-12-24T20:01:53.487885   \n",
       "3  tjywtkhwv4du6wccypfdk9kg44upk9i9       113118  2017-12-24T20:02:48.636948   \n",
       "4  tjywtkhwv4du6wccypfdk9kg44upk9i9       113119  2017-12-24T20:04:46.078238   \n",
       "\n",
       "   topic_id  user_id  viewed_solution  \n",
       "0        15  5202480            False  \n",
       "1        15  5202480            False  \n",
       "2        15  5202480            False  \n",
       "3        15  5202480             True  \n",
       "4        15  5202480            False  \n",
       "\n",
       "[5 rows x 24 columns]"
      ]
     },
     "execution_count": 301,
     "metadata": {},
     "output_type": "execute_result"
    }
   ],
   "source": [
    "data.head()\n"
   ]
  },
  {
   "cell_type": "code",
   "execution_count": 316,
   "metadata": {
    "ExecuteTime": {
     "end_time": "2020-12-25T22:56:46.318990Z",
     "start_time": "2020-12-25T22:56:46.312287Z"
    }
   },
   "outputs": [],
   "source": [
    "df = data[data[\"attempt_number\"]!=0]"
   ]
  },
  {
   "cell_type": "code",
   "execution_count": 317,
   "metadata": {
    "ExecuteTime": {
     "end_time": "2020-12-25T22:56:46.718870Z",
     "start_time": "2020-12-25T22:56:46.713220Z"
    }
   },
   "outputs": [],
   "source": [
    "df = df.reset_index()"
   ]
  },
  {
   "cell_type": "code",
   "execution_count": 318,
   "metadata": {
    "ExecuteTime": {
     "end_time": "2020-12-25T22:56:47.142480Z",
     "start_time": "2020-12-25T22:56:47.138668Z"
    }
   },
   "outputs": [
    {
     "data": {
      "text/plain": [
       "((3696, 24), (3027, 25))"
      ]
     },
     "execution_count": 318,
     "metadata": {},
     "output_type": "execute_result"
    }
   ],
   "source": [
    "data.shape, df.shape"
   ]
  },
  {
   "cell_type": "code",
   "execution_count": 319,
   "metadata": {
    "ExecuteTime": {
     "end_time": "2020-12-25T22:56:47.737753Z",
     "start_time": "2020-12-25T22:56:47.732354Z"
    }
   },
   "outputs": [],
   "source": [
    "df = df.drop([\"index\", \"old_practice_attempt\", \"only_preloaded\",\"object_id\", \"attempt_id\", \"answer\",\"quiz_id\", \"session_key\", \"topic_id\", \"user_id\", \"viewed_solution\", \"solvable_id\"], axis=1)"
   ]
  },
  {
   "cell_type": "code",
   "execution_count": 320,
   "metadata": {
    "ExecuteTime": {
     "end_time": "2020-12-25T22:56:48.473003Z",
     "start_time": "2020-12-25T22:56:48.452331Z"
    }
   },
   "outputs": [
    {
     "data": {
      "text/html": [
       "<div>\n",
       "<style scoped>\n",
       "    .dataframe tbody tr th:only-of-type {\n",
       "        vertical-align: middle;\n",
       "    }\n",
       "\n",
       "    .dataframe tbody tr th {\n",
       "        vertical-align: top;\n",
       "    }\n",
       "\n",
       "    .dataframe thead th {\n",
       "        text-align: right;\n",
       "    }\n",
       "</style>\n",
       "<table border=\"1\" class=\"dataframe\">\n",
       "  <thead>\n",
       "    <tr style=\"text-align: right;\">\n",
       "      <th></th>\n",
       "      <th>answer_is_correct</th>\n",
       "      <th>attempt_number</th>\n",
       "      <th>challenge_quiz</th>\n",
       "      <th>community_attempt</th>\n",
       "      <th>concept_quiz</th>\n",
       "      <th>daily_problem_quiz</th>\n",
       "      <th>django_app</th>\n",
       "      <th>django_model</th>\n",
       "      <th>exploration_quiz</th>\n",
       "      <th>flags</th>\n",
       "      <th>position</th>\n",
       "      <th>quiz_user_try_number</th>\n",
       "      <th>started</th>\n",
       "    </tr>\n",
       "  </thead>\n",
       "  <tbody>\n",
       "    <tr>\n",
       "      <th>0</th>\n",
       "      <td>True</td>\n",
       "      <td>1</td>\n",
       "      <td>False</td>\n",
       "      <td>False</td>\n",
       "      <td>False</td>\n",
       "      <td>False</td>\n",
       "      <td>quizzes</td>\n",
       "      <td>quizproblemset</td>\n",
       "      <td>True</td>\n",
       "      <td>0</td>\n",
       "      <td>2.0</td>\n",
       "      <td>1.0</td>\n",
       "      <td>2017-12-24T19:58:28.409597</td>\n",
       "    </tr>\n",
       "    <tr>\n",
       "      <th>1</th>\n",
       "      <td>True</td>\n",
       "      <td>1</td>\n",
       "      <td>False</td>\n",
       "      <td>False</td>\n",
       "      <td>False</td>\n",
       "      <td>False</td>\n",
       "      <td>quizzes</td>\n",
       "      <td>quizproblemset</td>\n",
       "      <td>True</td>\n",
       "      <td>0</td>\n",
       "      <td>3.0</td>\n",
       "      <td>1.0</td>\n",
       "      <td>2017-12-24T20:00:47.137714</td>\n",
       "    </tr>\n",
       "    <tr>\n",
       "      <th>2</th>\n",
       "      <td>True</td>\n",
       "      <td>1</td>\n",
       "      <td>False</td>\n",
       "      <td>False</td>\n",
       "      <td>False</td>\n",
       "      <td>False</td>\n",
       "      <td>quizzes</td>\n",
       "      <td>quizproblemset</td>\n",
       "      <td>True</td>\n",
       "      <td>0</td>\n",
       "      <td>5.0</td>\n",
       "      <td>1.0</td>\n",
       "      <td>2017-12-24T20:01:53.487885</td>\n",
       "    </tr>\n",
       "    <tr>\n",
       "      <th>3</th>\n",
       "      <td>False</td>\n",
       "      <td>1</td>\n",
       "      <td>False</td>\n",
       "      <td>False</td>\n",
       "      <td>False</td>\n",
       "      <td>False</td>\n",
       "      <td>quizzes</td>\n",
       "      <td>quizproblemset</td>\n",
       "      <td>True</td>\n",
       "      <td>0</td>\n",
       "      <td>7.0</td>\n",
       "      <td>1.0</td>\n",
       "      <td>2017-12-24T20:02:48.636948</td>\n",
       "    </tr>\n",
       "    <tr>\n",
       "      <th>4</th>\n",
       "      <td>True</td>\n",
       "      <td>1</td>\n",
       "      <td>False</td>\n",
       "      <td>False</td>\n",
       "      <td>False</td>\n",
       "      <td>False</td>\n",
       "      <td>quizzes</td>\n",
       "      <td>quizproblemset</td>\n",
       "      <td>True</td>\n",
       "      <td>0</td>\n",
       "      <td>8.0</td>\n",
       "      <td>1.0</td>\n",
       "      <td>2017-12-24T20:04:46.078238</td>\n",
       "    </tr>\n",
       "  </tbody>\n",
       "</table>\n",
       "</div>"
      ],
      "text/plain": [
       "   answer_is_correct  attempt_number  challenge_quiz  community_attempt  \\\n",
       "0               True               1           False              False   \n",
       "1               True               1           False              False   \n",
       "2               True               1           False              False   \n",
       "3              False               1           False              False   \n",
       "4               True               1           False              False   \n",
       "\n",
       "   concept_quiz  daily_problem_quiz django_app    django_model  \\\n",
       "0         False               False    quizzes  quizproblemset   \n",
       "1         False               False    quizzes  quizproblemset   \n",
       "2         False               False    quizzes  quizproblemset   \n",
       "3         False               False    quizzes  quizproblemset   \n",
       "4         False               False    quizzes  quizproblemset   \n",
       "\n",
       "   exploration_quiz  flags  position  quiz_user_try_number  \\\n",
       "0              True      0       2.0                   1.0   \n",
       "1              True      0       3.0                   1.0   \n",
       "2              True      0       5.0                   1.0   \n",
       "3              True      0       7.0                   1.0   \n",
       "4              True      0       8.0                   1.0   \n",
       "\n",
       "                      started  \n",
       "0  2017-12-24T19:58:28.409597  \n",
       "1  2017-12-24T20:00:47.137714  \n",
       "2  2017-12-24T20:01:53.487885  \n",
       "3  2017-12-24T20:02:48.636948  \n",
       "4  2017-12-24T20:04:46.078238  "
      ]
     },
     "execution_count": 320,
     "metadata": {},
     "output_type": "execute_result"
    }
   ],
   "source": [
    "df.head()"
   ]
  },
  {
   "cell_type": "code",
   "execution_count": 321,
   "metadata": {
    "ExecuteTime": {
     "end_time": "2020-12-25T22:56:48.945374Z",
     "start_time": "2020-12-25T22:56:48.887206Z"
    }
   },
   "outputs": [
    {
     "data": {
      "text/html": [
       "<div>\n",
       "<style scoped>\n",
       "    .dataframe tbody tr th:only-of-type {\n",
       "        vertical-align: middle;\n",
       "    }\n",
       "\n",
       "    .dataframe tbody tr th {\n",
       "        vertical-align: top;\n",
       "    }\n",
       "\n",
       "    .dataframe thead th {\n",
       "        text-align: right;\n",
       "    }\n",
       "</style>\n",
       "<table border=\"1\" class=\"dataframe\">\n",
       "  <thead>\n",
       "    <tr style=\"text-align: right;\">\n",
       "      <th></th>\n",
       "      <th>answer_is_correct</th>\n",
       "      <th>attempt_number</th>\n",
       "      <th>challenge_quiz</th>\n",
       "      <th>community_attempt</th>\n",
       "      <th>concept_quiz</th>\n",
       "      <th>daily_problem_quiz</th>\n",
       "      <th>django_app</th>\n",
       "      <th>django_model</th>\n",
       "      <th>exploration_quiz</th>\n",
       "      <th>flags</th>\n",
       "      <th>position</th>\n",
       "      <th>quiz_user_try_number</th>\n",
       "      <th>started</th>\n",
       "    </tr>\n",
       "  </thead>\n",
       "  <tbody>\n",
       "    <tr>\n",
       "      <th>count</th>\n",
       "      <td>3027</td>\n",
       "      <td>3027.000000</td>\n",
       "      <td>3027</td>\n",
       "      <td>3027</td>\n",
       "      <td>3027</td>\n",
       "      <td>3027</td>\n",
       "      <td>3027</td>\n",
       "      <td>3027</td>\n",
       "      <td>3027</td>\n",
       "      <td>3027.000000</td>\n",
       "      <td>2804.000000</td>\n",
       "      <td>2804.000000</td>\n",
       "      <td>3027</td>\n",
       "    </tr>\n",
       "    <tr>\n",
       "      <th>unique</th>\n",
       "      <td>2</td>\n",
       "      <td>NaN</td>\n",
       "      <td>1</td>\n",
       "      <td>2</td>\n",
       "      <td>2</td>\n",
       "      <td>2</td>\n",
       "      <td>2</td>\n",
       "      <td>2</td>\n",
       "      <td>2</td>\n",
       "      <td>NaN</td>\n",
       "      <td>NaN</td>\n",
       "      <td>NaN</td>\n",
       "      <td>3027</td>\n",
       "    </tr>\n",
       "    <tr>\n",
       "      <th>top</th>\n",
       "      <td>True</td>\n",
       "      <td>NaN</td>\n",
       "      <td>False</td>\n",
       "      <td>False</td>\n",
       "      <td>False</td>\n",
       "      <td>False</td>\n",
       "      <td>quizzes</td>\n",
       "      <td>quizproblemset</td>\n",
       "      <td>True</td>\n",
       "      <td>NaN</td>\n",
       "      <td>NaN</td>\n",
       "      <td>NaN</td>\n",
       "      <td>2018-09-30T07:56:06.001485</td>\n",
       "    </tr>\n",
       "    <tr>\n",
       "      <th>freq</th>\n",
       "      <td>2600</td>\n",
       "      <td>NaN</td>\n",
       "      <td>3027</td>\n",
       "      <td>3018</td>\n",
       "      <td>3000</td>\n",
       "      <td>2813</td>\n",
       "      <td>2804</td>\n",
       "      <td>2804</td>\n",
       "      <td>2712</td>\n",
       "      <td>NaN</td>\n",
       "      <td>NaN</td>\n",
       "      <td>NaN</td>\n",
       "      <td>1</td>\n",
       "    </tr>\n",
       "    <tr>\n",
       "      <th>mean</th>\n",
       "      <td>NaN</td>\n",
       "      <td>1.000661</td>\n",
       "      <td>NaN</td>\n",
       "      <td>NaN</td>\n",
       "      <td>NaN</td>\n",
       "      <td>NaN</td>\n",
       "      <td>NaN</td>\n",
       "      <td>NaN</td>\n",
       "      <td>NaN</td>\n",
       "      <td>11.480674</td>\n",
       "      <td>5.204351</td>\n",
       "      <td>1.291726</td>\n",
       "      <td>NaN</td>\n",
       "    </tr>\n",
       "    <tr>\n",
       "      <th>std</th>\n",
       "      <td>NaN</td>\n",
       "      <td>0.025700</td>\n",
       "      <td>NaN</td>\n",
       "      <td>NaN</td>\n",
       "      <td>NaN</td>\n",
       "      <td>NaN</td>\n",
       "      <td>NaN</td>\n",
       "      <td>NaN</td>\n",
       "      <td>NaN</td>\n",
       "      <td>33.236518</td>\n",
       "      <td>2.841132</td>\n",
       "      <td>0.645898</td>\n",
       "      <td>NaN</td>\n",
       "    </tr>\n",
       "    <tr>\n",
       "      <th>min</th>\n",
       "      <td>NaN</td>\n",
       "      <td>1.000000</td>\n",
       "      <td>NaN</td>\n",
       "      <td>NaN</td>\n",
       "      <td>NaN</td>\n",
       "      <td>NaN</td>\n",
       "      <td>NaN</td>\n",
       "      <td>NaN</td>\n",
       "      <td>NaN</td>\n",
       "      <td>0.000000</td>\n",
       "      <td>1.000000</td>\n",
       "      <td>1.000000</td>\n",
       "      <td>NaN</td>\n",
       "    </tr>\n",
       "    <tr>\n",
       "      <th>25%</th>\n",
       "      <td>NaN</td>\n",
       "      <td>1.000000</td>\n",
       "      <td>NaN</td>\n",
       "      <td>NaN</td>\n",
       "      <td>NaN</td>\n",
       "      <td>NaN</td>\n",
       "      <td>NaN</td>\n",
       "      <td>NaN</td>\n",
       "      <td>NaN</td>\n",
       "      <td>0.000000</td>\n",
       "      <td>3.000000</td>\n",
       "      <td>1.000000</td>\n",
       "      <td>NaN</td>\n",
       "    </tr>\n",
       "    <tr>\n",
       "      <th>50%</th>\n",
       "      <td>NaN</td>\n",
       "      <td>1.000000</td>\n",
       "      <td>NaN</td>\n",
       "      <td>NaN</td>\n",
       "      <td>NaN</td>\n",
       "      <td>NaN</td>\n",
       "      <td>NaN</td>\n",
       "      <td>NaN</td>\n",
       "      <td>NaN</td>\n",
       "      <td>0.000000</td>\n",
       "      <td>5.000000</td>\n",
       "      <td>1.000000</td>\n",
       "      <td>NaN</td>\n",
       "    </tr>\n",
       "    <tr>\n",
       "      <th>75%</th>\n",
       "      <td>NaN</td>\n",
       "      <td>1.000000</td>\n",
       "      <td>NaN</td>\n",
       "      <td>NaN</td>\n",
       "      <td>NaN</td>\n",
       "      <td>NaN</td>\n",
       "      <td>NaN</td>\n",
       "      <td>NaN</td>\n",
       "      <td>NaN</td>\n",
       "      <td>0.000000</td>\n",
       "      <td>7.000000</td>\n",
       "      <td>1.000000</td>\n",
       "      <td>NaN</td>\n",
       "    </tr>\n",
       "    <tr>\n",
       "      <th>max</th>\n",
       "      <td>NaN</td>\n",
       "      <td>2.000000</td>\n",
       "      <td>NaN</td>\n",
       "      <td>NaN</td>\n",
       "      <td>NaN</td>\n",
       "      <td>NaN</td>\n",
       "      <td>NaN</td>\n",
       "      <td>NaN</td>\n",
       "      <td>NaN</td>\n",
       "      <td>128.000000</td>\n",
       "      <td>15.000000</td>\n",
       "      <td>6.000000</td>\n",
       "      <td>NaN</td>\n",
       "    </tr>\n",
       "  </tbody>\n",
       "</table>\n",
       "</div>"
      ],
      "text/plain": [
       "       answer_is_correct  attempt_number challenge_quiz community_attempt  \\\n",
       "count               3027     3027.000000           3027              3027   \n",
       "unique                 2             NaN              1                 2   \n",
       "top                 True             NaN          False             False   \n",
       "freq                2600             NaN           3027              3018   \n",
       "mean                 NaN        1.000661            NaN               NaN   \n",
       "std                  NaN        0.025700            NaN               NaN   \n",
       "min                  NaN        1.000000            NaN               NaN   \n",
       "25%                  NaN        1.000000            NaN               NaN   \n",
       "50%                  NaN        1.000000            NaN               NaN   \n",
       "75%                  NaN        1.000000            NaN               NaN   \n",
       "max                  NaN        2.000000            NaN               NaN   \n",
       "\n",
       "       concept_quiz daily_problem_quiz django_app    django_model  \\\n",
       "count          3027               3027       3027            3027   \n",
       "unique            2                  2          2               2   \n",
       "top           False              False    quizzes  quizproblemset   \n",
       "freq           3000               2813       2804            2804   \n",
       "mean            NaN                NaN        NaN             NaN   \n",
       "std             NaN                NaN        NaN             NaN   \n",
       "min             NaN                NaN        NaN             NaN   \n",
       "25%             NaN                NaN        NaN             NaN   \n",
       "50%             NaN                NaN        NaN             NaN   \n",
       "75%             NaN                NaN        NaN             NaN   \n",
       "max             NaN                NaN        NaN             NaN   \n",
       "\n",
       "       exploration_quiz        flags     position  quiz_user_try_number  \\\n",
       "count              3027  3027.000000  2804.000000           2804.000000   \n",
       "unique                2          NaN          NaN                   NaN   \n",
       "top                True          NaN          NaN                   NaN   \n",
       "freq               2712          NaN          NaN                   NaN   \n",
       "mean                NaN    11.480674     5.204351              1.291726   \n",
       "std                 NaN    33.236518     2.841132              0.645898   \n",
       "min                 NaN     0.000000     1.000000              1.000000   \n",
       "25%                 NaN     0.000000     3.000000              1.000000   \n",
       "50%                 NaN     0.000000     5.000000              1.000000   \n",
       "75%                 NaN     0.000000     7.000000              1.000000   \n",
       "max                 NaN   128.000000    15.000000              6.000000   \n",
       "\n",
       "                           started  \n",
       "count                         3027  \n",
       "unique                        3027  \n",
       "top     2018-09-30T07:56:06.001485  \n",
       "freq                             1  \n",
       "mean                           NaN  \n",
       "std                            NaN  \n",
       "min                            NaN  \n",
       "25%                            NaN  \n",
       "50%                            NaN  \n",
       "75%                            NaN  \n",
       "max                            NaN  "
      ]
     },
     "execution_count": 321,
     "metadata": {},
     "output_type": "execute_result"
    }
   ],
   "source": [
    "df.describe(include=\"all\")"
   ]
  },
  {
   "cell_type": "code",
   "execution_count": 322,
   "metadata": {
    "ExecuteTime": {
     "end_time": "2020-12-25T22:56:49.814017Z",
     "start_time": "2020-12-25T22:56:49.808425Z"
    }
   },
   "outputs": [
    {
     "data": {
      "text/plain": [
       "answer_is_correct          bool\n",
       "attempt_number            int64\n",
       "challenge_quiz             bool\n",
       "community_attempt          bool\n",
       "concept_quiz               bool\n",
       "daily_problem_quiz         bool\n",
       "django_app               object\n",
       "django_model             object\n",
       "exploration_quiz           bool\n",
       "flags                     int64\n",
       "position                float64\n",
       "quiz_user_try_number    float64\n",
       "started                  object\n",
       "dtype: object"
      ]
     },
     "execution_count": 322,
     "metadata": {},
     "output_type": "execute_result"
    }
   ],
   "source": [
    "df.dtypes"
   ]
  },
  {
   "cell_type": "code",
   "execution_count": 323,
   "metadata": {
    "ExecuteTime": {
     "end_time": "2020-12-25T22:56:57.070607Z",
     "start_time": "2020-12-25T22:56:57.057851Z"
    }
   },
   "outputs": [
    {
     "data": {
      "text/plain": [
       "{'bool': ['answer_is_correct',\n",
       "  'challenge_quiz',\n",
       "  'community_attempt',\n",
       "  'concept_quiz',\n",
       "  'daily_problem_quiz',\n",
       "  'exploration_quiz'],\n",
       " 'int64': ['attempt_number', 'flags'],\n",
       " 'float64': ['position', 'quiz_user_try_number'],\n",
       " 'object': ['django_app', 'django_model', 'started']}"
      ]
     },
     "execution_count": 323,
     "metadata": {},
     "output_type": "execute_result"
    }
   ],
   "source": [
    "# all columns\n",
    "g = dict(df.columns.to_series().groupby(df.dtypes).groups)\n",
    "cols = {k.name: list(v) for k, v in g.items()}\n",
    "cols"
   ]
  },
  {
   "cell_type": "code",
   "execution_count": 324,
   "metadata": {
    "ExecuteTime": {
     "end_time": "2020-12-25T22:56:57.689558Z",
     "start_time": "2020-12-25T22:56:57.685483Z"
    }
   },
   "outputs": [
    {
     "data": {
      "text/plain": [
       "['answer_is_correct',\n",
       " 'challenge_quiz',\n",
       " 'community_attempt',\n",
       " 'concept_quiz',\n",
       " 'daily_problem_quiz',\n",
       " 'exploration_quiz']"
      ]
     },
     "execution_count": 324,
     "metadata": {},
     "output_type": "execute_result"
    }
   ],
   "source": [
    "# boolean variables\n",
    "bool_cols = cols[\"bool\"]\n",
    "bool_cols"
   ]
  },
  {
   "cell_type": "code",
   "execution_count": 325,
   "metadata": {
    "ExecuteTime": {
     "end_time": "2020-12-25T22:56:58.431748Z",
     "start_time": "2020-12-25T22:56:58.422780Z"
    }
   },
   "outputs": [],
   "source": [
    "bools = pd.DataFrame()\n",
    "for col in bool_cols:\n",
    "    bools[col] = df[col]*1"
   ]
  },
  {
   "cell_type": "code",
   "execution_count": 326,
   "metadata": {
    "ExecuteTime": {
     "end_time": "2020-12-25T22:56:58.916712Z",
     "start_time": "2020-12-25T22:56:58.912253Z"
    }
   },
   "outputs": [
    {
     "data": {
      "text/plain": [
       "['attempt_number', 'flags', 'position', 'quiz_user_try_number']"
      ]
     },
     "execution_count": 326,
     "metadata": {},
     "output_type": "execute_result"
    }
   ],
   "source": [
    "# numerical variables\n",
    "num_cols = cols[\"int64\"]+cols[\"float64\"]\n",
    "num_cols"
   ]
  },
  {
   "cell_type": "code",
   "execution_count": 327,
   "metadata": {
    "ExecuteTime": {
     "end_time": "2020-12-25T22:56:59.358424Z",
     "start_time": "2020-12-25T22:56:59.331510Z"
    }
   },
   "outputs": [
    {
     "data": {
      "text/html": [
       "<div>\n",
       "<style scoped>\n",
       "    .dataframe tbody tr th:only-of-type {\n",
       "        vertical-align: middle;\n",
       "    }\n",
       "\n",
       "    .dataframe tbody tr th {\n",
       "        vertical-align: top;\n",
       "    }\n",
       "\n",
       "    .dataframe thead th {\n",
       "        text-align: right;\n",
       "    }\n",
       "</style>\n",
       "<table border=\"1\" class=\"dataframe\">\n",
       "  <thead>\n",
       "    <tr style=\"text-align: right;\">\n",
       "      <th></th>\n",
       "      <th>attempt_number</th>\n",
       "      <th>flags</th>\n",
       "      <th>position</th>\n",
       "      <th>quiz_user_try_number</th>\n",
       "    </tr>\n",
       "  </thead>\n",
       "  <tbody>\n",
       "    <tr>\n",
       "      <th>0</th>\n",
       "      <td>1.0</td>\n",
       "      <td>0.0</td>\n",
       "      <td>2.000000</td>\n",
       "      <td>1.000000</td>\n",
       "    </tr>\n",
       "    <tr>\n",
       "      <th>1</th>\n",
       "      <td>1.0</td>\n",
       "      <td>0.0</td>\n",
       "      <td>3.000000</td>\n",
       "      <td>1.000000</td>\n",
       "    </tr>\n",
       "    <tr>\n",
       "      <th>2</th>\n",
       "      <td>1.0</td>\n",
       "      <td>0.0</td>\n",
       "      <td>5.000000</td>\n",
       "      <td>1.000000</td>\n",
       "    </tr>\n",
       "    <tr>\n",
       "      <th>3</th>\n",
       "      <td>1.0</td>\n",
       "      <td>0.0</td>\n",
       "      <td>7.000000</td>\n",
       "      <td>1.000000</td>\n",
       "    </tr>\n",
       "    <tr>\n",
       "      <th>4</th>\n",
       "      <td>1.0</td>\n",
       "      <td>0.0</td>\n",
       "      <td>8.000000</td>\n",
       "      <td>1.000000</td>\n",
       "    </tr>\n",
       "    <tr>\n",
       "      <th>...</th>\n",
       "      <td>...</td>\n",
       "      <td>...</td>\n",
       "      <td>...</td>\n",
       "      <td>...</td>\n",
       "    </tr>\n",
       "    <tr>\n",
       "      <th>3022</th>\n",
       "      <td>1.0</td>\n",
       "      <td>0.0</td>\n",
       "      <td>9.000000</td>\n",
       "      <td>1.000000</td>\n",
       "    </tr>\n",
       "    <tr>\n",
       "      <th>3023</th>\n",
       "      <td>1.0</td>\n",
       "      <td>0.0</td>\n",
       "      <td>11.000000</td>\n",
       "      <td>1.000000</td>\n",
       "    </tr>\n",
       "    <tr>\n",
       "      <th>3024</th>\n",
       "      <td>1.0</td>\n",
       "      <td>0.0</td>\n",
       "      <td>12.000000</td>\n",
       "      <td>1.000000</td>\n",
       "    </tr>\n",
       "    <tr>\n",
       "      <th>3025</th>\n",
       "      <td>1.0</td>\n",
       "      <td>128.0</td>\n",
       "      <td>5.204351</td>\n",
       "      <td>1.291726</td>\n",
       "    </tr>\n",
       "    <tr>\n",
       "      <th>3026</th>\n",
       "      <td>1.0</td>\n",
       "      <td>128.0</td>\n",
       "      <td>5.204351</td>\n",
       "      <td>1.291726</td>\n",
       "    </tr>\n",
       "  </tbody>\n",
       "</table>\n",
       "<p>3027 rows × 4 columns</p>\n",
       "</div>"
      ],
      "text/plain": [
       "      attempt_number  flags   position  quiz_user_try_number\n",
       "0                1.0    0.0   2.000000              1.000000\n",
       "1                1.0    0.0   3.000000              1.000000\n",
       "2                1.0    0.0   5.000000              1.000000\n",
       "3                1.0    0.0   7.000000              1.000000\n",
       "4                1.0    0.0   8.000000              1.000000\n",
       "...              ...    ...        ...                   ...\n",
       "3022             1.0    0.0   9.000000              1.000000\n",
       "3023             1.0    0.0  11.000000              1.000000\n",
       "3024             1.0    0.0  12.000000              1.000000\n",
       "3025             1.0  128.0   5.204351              1.291726\n",
       "3026             1.0  128.0   5.204351              1.291726\n",
       "\n",
       "[3027 rows x 4 columns]"
      ]
     },
     "execution_count": 327,
     "metadata": {},
     "output_type": "execute_result"
    }
   ],
   "source": [
    "nums_imputed = pd.DataFrame(SimpleImputer().fit_transform(df[num_cols]), columns=num_cols)\n",
    "nums_imputed"
   ]
  },
  {
   "cell_type": "code",
   "execution_count": 328,
   "metadata": {
    "ExecuteTime": {
     "end_time": "2020-12-25T22:56:59.848560Z",
     "start_time": "2020-12-25T22:56:59.824585Z"
    }
   },
   "outputs": [
    {
     "data": {
      "text/html": [
       "<div>\n",
       "<style scoped>\n",
       "    .dataframe tbody tr th:only-of-type {\n",
       "        vertical-align: middle;\n",
       "    }\n",
       "\n",
       "    .dataframe tbody tr th {\n",
       "        vertical-align: top;\n",
       "    }\n",
       "\n",
       "    .dataframe thead th {\n",
       "        text-align: right;\n",
       "    }\n",
       "</style>\n",
       "<table border=\"1\" class=\"dataframe\">\n",
       "  <thead>\n",
       "    <tr style=\"text-align: right;\">\n",
       "      <th></th>\n",
       "      <th>attempt_number</th>\n",
       "      <th>flags</th>\n",
       "      <th>position</th>\n",
       "      <th>quiz_user_try_number</th>\n",
       "    </tr>\n",
       "  </thead>\n",
       "  <tbody>\n",
       "    <tr>\n",
       "      <th>0</th>\n",
       "      <td>0.0</td>\n",
       "      <td>0.0</td>\n",
       "      <td>-0.750000</td>\n",
       "      <td>0.0</td>\n",
       "    </tr>\n",
       "    <tr>\n",
       "      <th>1</th>\n",
       "      <td>0.0</td>\n",
       "      <td>0.0</td>\n",
       "      <td>-0.500000</td>\n",
       "      <td>0.0</td>\n",
       "    </tr>\n",
       "    <tr>\n",
       "      <th>2</th>\n",
       "      <td>0.0</td>\n",
       "      <td>0.0</td>\n",
       "      <td>0.000000</td>\n",
       "      <td>0.0</td>\n",
       "    </tr>\n",
       "    <tr>\n",
       "      <th>3</th>\n",
       "      <td>0.0</td>\n",
       "      <td>0.0</td>\n",
       "      <td>0.500000</td>\n",
       "      <td>0.0</td>\n",
       "    </tr>\n",
       "    <tr>\n",
       "      <th>4</th>\n",
       "      <td>0.0</td>\n",
       "      <td>0.0</td>\n",
       "      <td>0.750000</td>\n",
       "      <td>0.0</td>\n",
       "    </tr>\n",
       "    <tr>\n",
       "      <th>...</th>\n",
       "      <td>...</td>\n",
       "      <td>...</td>\n",
       "      <td>...</td>\n",
       "      <td>...</td>\n",
       "    </tr>\n",
       "    <tr>\n",
       "      <th>3022</th>\n",
       "      <td>0.0</td>\n",
       "      <td>0.0</td>\n",
       "      <td>1.000000</td>\n",
       "      <td>0.0</td>\n",
       "    </tr>\n",
       "    <tr>\n",
       "      <th>3023</th>\n",
       "      <td>0.0</td>\n",
       "      <td>0.0</td>\n",
       "      <td>1.500000</td>\n",
       "      <td>0.0</td>\n",
       "    </tr>\n",
       "    <tr>\n",
       "      <th>3024</th>\n",
       "      <td>0.0</td>\n",
       "      <td>0.0</td>\n",
       "      <td>1.750000</td>\n",
       "      <td>0.0</td>\n",
       "    </tr>\n",
       "    <tr>\n",
       "      <th>3025</th>\n",
       "      <td>0.0</td>\n",
       "      <td>128.0</td>\n",
       "      <td>0.051088</td>\n",
       "      <td>1.0</td>\n",
       "    </tr>\n",
       "    <tr>\n",
       "      <th>3026</th>\n",
       "      <td>0.0</td>\n",
       "      <td>128.0</td>\n",
       "      <td>0.051088</td>\n",
       "      <td>1.0</td>\n",
       "    </tr>\n",
       "  </tbody>\n",
       "</table>\n",
       "<p>3027 rows × 4 columns</p>\n",
       "</div>"
      ],
      "text/plain": [
       "      attempt_number  flags  position  quiz_user_try_number\n",
       "0                0.0    0.0 -0.750000                   0.0\n",
       "1                0.0    0.0 -0.500000                   0.0\n",
       "2                0.0    0.0  0.000000                   0.0\n",
       "3                0.0    0.0  0.500000                   0.0\n",
       "4                0.0    0.0  0.750000                   0.0\n",
       "...              ...    ...       ...                   ...\n",
       "3022             0.0    0.0  1.000000                   0.0\n",
       "3023             0.0    0.0  1.500000                   0.0\n",
       "3024             0.0    0.0  1.750000                   0.0\n",
       "3025             0.0  128.0  0.051088                   1.0\n",
       "3026             0.0  128.0  0.051088                   1.0\n",
       "\n",
       "[3027 rows x 4 columns]"
      ]
     },
     "execution_count": 328,
     "metadata": {},
     "output_type": "execute_result"
    }
   ],
   "source": [
    "rst = RobustScaler().fit(nums_imputed)\n",
    "nums_scaled = pd.DataFrame(rst.transform(nums_imputed), columns = num_cols)\n",
    "nums_scaled"
   ]
  },
  {
   "cell_type": "code",
   "execution_count": 329,
   "metadata": {
    "ExecuteTime": {
     "end_time": "2020-12-25T22:57:00.264746Z",
     "start_time": "2020-12-25T22:57:00.260491Z"
    },
    "scrolled": true
   },
   "outputs": [
    {
     "data": {
      "text/plain": [
       "['django_app', 'django_model']"
      ]
     },
     "execution_count": 329,
     "metadata": {},
     "output_type": "execute_result"
    }
   ],
   "source": [
    "# categorical variables\n",
    "cat_cols = cols[\"object\"]\n",
    "cat_cols.remove('started')\n",
    "cat_cols"
   ]
  },
  {
   "cell_type": "code",
   "execution_count": 330,
   "metadata": {
    "ExecuteTime": {
     "end_time": "2020-12-25T22:57:00.694252Z",
     "start_time": "2020-12-25T22:57:00.674976Z"
    }
   },
   "outputs": [
    {
     "data": {
      "text/html": [
       "<div>\n",
       "<style scoped>\n",
       "    .dataframe tbody tr th:only-of-type {\n",
       "        vertical-align: middle;\n",
       "    }\n",
       "\n",
       "    .dataframe tbody tr th {\n",
       "        vertical-align: top;\n",
       "    }\n",
       "\n",
       "    .dataframe thead th {\n",
       "        text-align: right;\n",
       "    }\n",
       "</style>\n",
       "<table border=\"1\" class=\"dataframe\">\n",
       "  <thead>\n",
       "    <tr style=\"text-align: right;\">\n",
       "      <th></th>\n",
       "      <th>django_app</th>\n",
       "      <th>django_model</th>\n",
       "    </tr>\n",
       "  </thead>\n",
       "  <tbody>\n",
       "    <tr>\n",
       "      <th>0</th>\n",
       "      <td>quizzes</td>\n",
       "      <td>quizproblemset</td>\n",
       "    </tr>\n",
       "    <tr>\n",
       "      <th>1</th>\n",
       "      <td>quizzes</td>\n",
       "      <td>quizproblemset</td>\n",
       "    </tr>\n",
       "    <tr>\n",
       "      <th>2</th>\n",
       "      <td>quizzes</td>\n",
       "      <td>quizproblemset</td>\n",
       "    </tr>\n",
       "    <tr>\n",
       "      <th>3</th>\n",
       "      <td>quizzes</td>\n",
       "      <td>quizproblemset</td>\n",
       "    </tr>\n",
       "    <tr>\n",
       "      <th>4</th>\n",
       "      <td>quizzes</td>\n",
       "      <td>quizproblemset</td>\n",
       "    </tr>\n",
       "    <tr>\n",
       "      <th>...</th>\n",
       "      <td>...</td>\n",
       "      <td>...</td>\n",
       "    </tr>\n",
       "    <tr>\n",
       "      <th>3022</th>\n",
       "      <td>quizzes</td>\n",
       "      <td>quizproblemset</td>\n",
       "    </tr>\n",
       "    <tr>\n",
       "      <th>3023</th>\n",
       "      <td>quizzes</td>\n",
       "      <td>quizproblemset</td>\n",
       "    </tr>\n",
       "    <tr>\n",
       "      <th>3024</th>\n",
       "      <td>quizzes</td>\n",
       "      <td>quizproblemset</td>\n",
       "    </tr>\n",
       "    <tr>\n",
       "      <th>3025</th>\n",
       "      <td></td>\n",
       "      <td></td>\n",
       "    </tr>\n",
       "    <tr>\n",
       "      <th>3026</th>\n",
       "      <td></td>\n",
       "      <td></td>\n",
       "    </tr>\n",
       "  </tbody>\n",
       "</table>\n",
       "<p>3027 rows × 2 columns</p>\n",
       "</div>"
      ],
      "text/plain": [
       "     django_app    django_model\n",
       "0       quizzes  quizproblemset\n",
       "1       quizzes  quizproblemset\n",
       "2       quizzes  quizproblemset\n",
       "3       quizzes  quizproblemset\n",
       "4       quizzes  quizproblemset\n",
       "...         ...             ...\n",
       "3022    quizzes  quizproblemset\n",
       "3023    quizzes  quizproblemset\n",
       "3024    quizzes  quizproblemset\n",
       "3025                           \n",
       "3026                           \n",
       "\n",
       "[3027 rows x 2 columns]"
      ]
     },
     "execution_count": 330,
     "metadata": {},
     "output_type": "execute_result"
    }
   ],
   "source": [
    "cats = df[cat_cols]\n",
    "cats"
   ]
  },
  {
   "cell_type": "code",
   "execution_count": 331,
   "metadata": {
    "ExecuteTime": {
     "end_time": "2020-12-25T22:57:01.169792Z",
     "start_time": "2020-12-25T22:57:01.161295Z"
    },
    "scrolled": true
   },
   "outputs": [
    {
     "name": "stdout",
     "output_type": "stream",
     "text": [
      "['x0_' 'x0_quizzes' 'x1_' 'x1_quizproblemset']\n"
     ]
    }
   ],
   "source": [
    "ohe = OneHotEncoder(handle_unknown='ignore', sparse=False)\n",
    "\n",
    "cats = pd.DataFrame(ohe.fit_transform(cats))\n",
    "print(ohe.get_feature_names())\n",
    "cats.columns = ohe.get_feature_names()"
   ]
  },
  {
   "cell_type": "code",
   "execution_count": 348,
   "metadata": {
    "ExecuteTime": {
     "end_time": "2020-12-25T22:58:54.802115Z",
     "start_time": "2020-12-25T22:58:54.789592Z"
    }
   },
   "outputs": [
    {
     "data": {
      "text/html": [
       "<div>\n",
       "<style scoped>\n",
       "    .dataframe tbody tr th:only-of-type {\n",
       "        vertical-align: middle;\n",
       "    }\n",
       "\n",
       "    .dataframe tbody tr th {\n",
       "        vertical-align: top;\n",
       "    }\n",
       "\n",
       "    .dataframe thead th {\n",
       "        text-align: right;\n",
       "    }\n",
       "</style>\n",
       "<table border=\"1\" class=\"dataframe\">\n",
       "  <thead>\n",
       "    <tr style=\"text-align: right;\">\n",
       "      <th></th>\n",
       "      <th>started</th>\n",
       "    </tr>\n",
       "  </thead>\n",
       "  <tbody>\n",
       "    <tr>\n",
       "      <th>0</th>\n",
       "      <td>2017-12-24T19:58:28.409597</td>\n",
       "    </tr>\n",
       "    <tr>\n",
       "      <th>1</th>\n",
       "      <td>2017-12-24T20:00:47.137714</td>\n",
       "    </tr>\n",
       "    <tr>\n",
       "      <th>2</th>\n",
       "      <td>2017-12-24T20:01:53.487885</td>\n",
       "    </tr>\n",
       "    <tr>\n",
       "      <th>3</th>\n",
       "      <td>2017-12-24T20:02:48.636948</td>\n",
       "    </tr>\n",
       "    <tr>\n",
       "      <th>4</th>\n",
       "      <td>2017-12-24T20:04:46.078238</td>\n",
       "    </tr>\n",
       "    <tr>\n",
       "      <th>...</th>\n",
       "      <td>...</td>\n",
       "    </tr>\n",
       "    <tr>\n",
       "      <th>3022</th>\n",
       "      <td>2020-12-22T09:55:43.574787</td>\n",
       "    </tr>\n",
       "    <tr>\n",
       "      <th>3023</th>\n",
       "      <td>2020-12-22T09:57:53.241227</td>\n",
       "    </tr>\n",
       "    <tr>\n",
       "      <th>3024</th>\n",
       "      <td>2020-12-22T10:46:12.655894</td>\n",
       "    </tr>\n",
       "    <tr>\n",
       "      <th>3025</th>\n",
       "      <td>2020-12-22T11:39:56.366776</td>\n",
       "    </tr>\n",
       "    <tr>\n",
       "      <th>3026</th>\n",
       "      <td>2020-12-23T12:22:39.828604</td>\n",
       "    </tr>\n",
       "  </tbody>\n",
       "</table>\n",
       "<p>3027 rows × 1 columns</p>\n",
       "</div>"
      ],
      "text/plain": [
       "                         started\n",
       "0     2017-12-24T19:58:28.409597\n",
       "1     2017-12-24T20:00:47.137714\n",
       "2     2017-12-24T20:01:53.487885\n",
       "3     2017-12-24T20:02:48.636948\n",
       "4     2017-12-24T20:04:46.078238\n",
       "...                          ...\n",
       "3022  2020-12-22T09:55:43.574787\n",
       "3023  2020-12-22T09:57:53.241227\n",
       "3024  2020-12-22T10:46:12.655894\n",
       "3025  2020-12-22T11:39:56.366776\n",
       "3026  2020-12-23T12:22:39.828604\n",
       "\n",
       "[3027 rows x 1 columns]"
      ]
     },
     "execution_count": 348,
     "metadata": {},
     "output_type": "execute_result"
    }
   ],
   "source": [
    "# temporal data\n",
    "t_cols = ['started']\n",
    "temps = df[t_cols]\n",
    "temps"
   ]
  },
  {
   "cell_type": "code",
   "execution_count": 349,
   "metadata": {
    "ExecuteTime": {
     "end_time": "2020-12-25T22:58:54.938266Z",
     "start_time": "2020-12-25T22:58:54.933489Z"
    }
   },
   "outputs": [],
   "source": [
    "temps = pd.to_datetime(temps['started'], format=\"%Y-%m-%dT%H:%M:%S\")\n",
    "temps = pd.DataFrame(temps)"
   ]
  },
  {
   "cell_type": "code",
   "execution_count": 350,
   "metadata": {
    "ExecuteTime": {
     "end_time": "2020-12-25T22:58:55.669317Z",
     "start_time": "2020-12-25T22:58:55.653284Z"
    },
    "scrolled": true
   },
   "outputs": [
    {
     "name": "stderr",
     "output_type": "stream",
     "text": [
      "/home/alex/.local/lib/python3.6/site-packages/ipykernel_launcher.py:17: FutureWarning: Series.dt.weekofyear and Series.dt.week have been deprecated.  Please use Series.dt.isocalendar().week instead.\n"
     ]
    }
   ],
   "source": [
    "enriched = date_enrichment(temps, 'started')\n"
   ]
  },
  {
   "cell_type": "code",
   "execution_count": 351,
   "metadata": {
    "ExecuteTime": {
     "end_time": "2020-12-25T22:58:57.012703Z",
     "start_time": "2020-12-25T22:58:57.000833Z"
    }
   },
   "outputs": [
    {
     "data": {
      "text/html": [
       "<div>\n",
       "<style scoped>\n",
       "    .dataframe tbody tr th:only-of-type {\n",
       "        vertical-align: middle;\n",
       "    }\n",
       "\n",
       "    .dataframe tbody tr th {\n",
       "        vertical-align: top;\n",
       "    }\n",
       "\n",
       "    .dataframe thead th {\n",
       "        text-align: right;\n",
       "    }\n",
       "</style>\n",
       "<table border=\"1\" class=\"dataframe\">\n",
       "  <thead>\n",
       "    <tr style=\"text-align: right;\">\n",
       "      <th></th>\n",
       "      <th>Day</th>\n",
       "      <th>Month</th>\n",
       "      <th>Year</th>\n",
       "      <th>Start_hour</th>\n",
       "      <th>Start_minute</th>\n",
       "      <th>Start_second</th>\n",
       "      <th>Start_weekday</th>\n",
       "      <th>Start_week_of_year</th>\n",
       "    </tr>\n",
       "  </thead>\n",
       "  <tbody>\n",
       "    <tr>\n",
       "      <th>0</th>\n",
       "      <td>24</td>\n",
       "      <td>12</td>\n",
       "      <td>2017</td>\n",
       "      <td>19</td>\n",
       "      <td>58</td>\n",
       "      <td>28</td>\n",
       "      <td>6</td>\n",
       "      <td>51</td>\n",
       "    </tr>\n",
       "    <tr>\n",
       "      <th>1</th>\n",
       "      <td>24</td>\n",
       "      <td>12</td>\n",
       "      <td>2017</td>\n",
       "      <td>20</td>\n",
       "      <td>0</td>\n",
       "      <td>47</td>\n",
       "      <td>6</td>\n",
       "      <td>51</td>\n",
       "    </tr>\n",
       "    <tr>\n",
       "      <th>2</th>\n",
       "      <td>24</td>\n",
       "      <td>12</td>\n",
       "      <td>2017</td>\n",
       "      <td>20</td>\n",
       "      <td>1</td>\n",
       "      <td>53</td>\n",
       "      <td>6</td>\n",
       "      <td>51</td>\n",
       "    </tr>\n",
       "    <tr>\n",
       "      <th>3</th>\n",
       "      <td>24</td>\n",
       "      <td>12</td>\n",
       "      <td>2017</td>\n",
       "      <td>20</td>\n",
       "      <td>2</td>\n",
       "      <td>48</td>\n",
       "      <td>6</td>\n",
       "      <td>51</td>\n",
       "    </tr>\n",
       "    <tr>\n",
       "      <th>4</th>\n",
       "      <td>24</td>\n",
       "      <td>12</td>\n",
       "      <td>2017</td>\n",
       "      <td>20</td>\n",
       "      <td>4</td>\n",
       "      <td>46</td>\n",
       "      <td>6</td>\n",
       "      <td>51</td>\n",
       "    </tr>\n",
       "    <tr>\n",
       "      <th>...</th>\n",
       "      <td>...</td>\n",
       "      <td>...</td>\n",
       "      <td>...</td>\n",
       "      <td>...</td>\n",
       "      <td>...</td>\n",
       "      <td>...</td>\n",
       "      <td>...</td>\n",
       "      <td>...</td>\n",
       "    </tr>\n",
       "    <tr>\n",
       "      <th>3022</th>\n",
       "      <td>22</td>\n",
       "      <td>12</td>\n",
       "      <td>2020</td>\n",
       "      <td>9</td>\n",
       "      <td>55</td>\n",
       "      <td>43</td>\n",
       "      <td>1</td>\n",
       "      <td>52</td>\n",
       "    </tr>\n",
       "    <tr>\n",
       "      <th>3023</th>\n",
       "      <td>22</td>\n",
       "      <td>12</td>\n",
       "      <td>2020</td>\n",
       "      <td>9</td>\n",
       "      <td>57</td>\n",
       "      <td>53</td>\n",
       "      <td>1</td>\n",
       "      <td>52</td>\n",
       "    </tr>\n",
       "    <tr>\n",
       "      <th>3024</th>\n",
       "      <td>22</td>\n",
       "      <td>12</td>\n",
       "      <td>2020</td>\n",
       "      <td>10</td>\n",
       "      <td>46</td>\n",
       "      <td>12</td>\n",
       "      <td>1</td>\n",
       "      <td>52</td>\n",
       "    </tr>\n",
       "    <tr>\n",
       "      <th>3025</th>\n",
       "      <td>22</td>\n",
       "      <td>12</td>\n",
       "      <td>2020</td>\n",
       "      <td>11</td>\n",
       "      <td>39</td>\n",
       "      <td>56</td>\n",
       "      <td>1</td>\n",
       "      <td>52</td>\n",
       "    </tr>\n",
       "    <tr>\n",
       "      <th>3026</th>\n",
       "      <td>23</td>\n",
       "      <td>12</td>\n",
       "      <td>2020</td>\n",
       "      <td>12</td>\n",
       "      <td>22</td>\n",
       "      <td>39</td>\n",
       "      <td>2</td>\n",
       "      <td>52</td>\n",
       "    </tr>\n",
       "  </tbody>\n",
       "</table>\n",
       "<p>3027 rows × 8 columns</p>\n",
       "</div>"
      ],
      "text/plain": [
       "      Day  Month  Year  Start_hour  Start_minute  Start_second  Start_weekday  \\\n",
       "0      24     12  2017          19            58            28              6   \n",
       "1      24     12  2017          20             0            47              6   \n",
       "2      24     12  2017          20             1            53              6   \n",
       "3      24     12  2017          20             2            48              6   \n",
       "4      24     12  2017          20             4            46              6   \n",
       "...   ...    ...   ...         ...           ...           ...            ...   \n",
       "3022   22     12  2020           9            55            43              1   \n",
       "3023   22     12  2020           9            57            53              1   \n",
       "3024   22     12  2020          10            46            12              1   \n",
       "3025   22     12  2020          11            39            56              1   \n",
       "3026   23     12  2020          12            22            39              2   \n",
       "\n",
       "      Start_week_of_year  \n",
       "0                     51  \n",
       "1                     51  \n",
       "2                     51  \n",
       "3                     51  \n",
       "4                     51  \n",
       "...                  ...  \n",
       "3022                  52  \n",
       "3023                  52  \n",
       "3024                  52  \n",
       "3025                  52  \n",
       "3026                  52  \n",
       "\n",
       "[3027 rows x 8 columns]"
      ]
     },
     "execution_count": 351,
     "metadata": {},
     "output_type": "execute_result"
    }
   ],
   "source": [
    "enriched"
   ]
  },
  {
   "cell_type": "code",
   "execution_count": 352,
   "metadata": {
    "ExecuteTime": {
     "end_time": "2020-12-25T22:59:00.645087Z",
     "start_time": "2020-12-25T22:59:00.640344Z"
    }
   },
   "outputs": [
    {
     "data": {
      "text/plain": [
       "((3027, 6), (3027, 4), (3027, 4), (3027, 8))"
      ]
     },
     "execution_count": 352,
     "metadata": {},
     "output_type": "execute_result"
    }
   ],
   "source": [
    "bools.shape, nums_scaled.shape, cats.shape, enriched.shape"
   ]
  },
  {
   "cell_type": "code",
   "execution_count": 353,
   "metadata": {
    "ExecuteTime": {
     "end_time": "2020-12-25T22:59:01.604742Z",
     "start_time": "2020-12-25T22:59:01.600956Z"
    }
   },
   "outputs": [],
   "source": [
    "# merge data\n",
    "df_pp = pd.concat([bools, nums_scaled, cats, enriched],axis=1)"
   ]
  },
  {
   "cell_type": "code",
   "execution_count": 354,
   "metadata": {
    "ExecuteTime": {
     "end_time": "2020-12-25T22:59:02.317611Z",
     "start_time": "2020-12-25T22:59:02.286592Z"
    },
    "scrolled": true
   },
   "outputs": [
    {
     "data": {
      "text/html": [
       "<div>\n",
       "<style scoped>\n",
       "    .dataframe tbody tr th:only-of-type {\n",
       "        vertical-align: middle;\n",
       "    }\n",
       "\n",
       "    .dataframe tbody tr th {\n",
       "        vertical-align: top;\n",
       "    }\n",
       "\n",
       "    .dataframe thead th {\n",
       "        text-align: right;\n",
       "    }\n",
       "</style>\n",
       "<table border=\"1\" class=\"dataframe\">\n",
       "  <thead>\n",
       "    <tr style=\"text-align: right;\">\n",
       "      <th></th>\n",
       "      <th>answer_is_correct</th>\n",
       "      <th>challenge_quiz</th>\n",
       "      <th>community_attempt</th>\n",
       "      <th>concept_quiz</th>\n",
       "      <th>daily_problem_quiz</th>\n",
       "      <th>exploration_quiz</th>\n",
       "      <th>attempt_number</th>\n",
       "      <th>flags</th>\n",
       "      <th>position</th>\n",
       "      <th>quiz_user_try_number</th>\n",
       "      <th>...</th>\n",
       "      <th>x1_</th>\n",
       "      <th>x1_quizproblemset</th>\n",
       "      <th>Day</th>\n",
       "      <th>Month</th>\n",
       "      <th>Year</th>\n",
       "      <th>Start_hour</th>\n",
       "      <th>Start_minute</th>\n",
       "      <th>Start_second</th>\n",
       "      <th>Start_weekday</th>\n",
       "      <th>Start_week_of_year</th>\n",
       "    </tr>\n",
       "  </thead>\n",
       "  <tbody>\n",
       "    <tr>\n",
       "      <th>0</th>\n",
       "      <td>1</td>\n",
       "      <td>0</td>\n",
       "      <td>0</td>\n",
       "      <td>0</td>\n",
       "      <td>0</td>\n",
       "      <td>1</td>\n",
       "      <td>0.0</td>\n",
       "      <td>0.0</td>\n",
       "      <td>-0.750000</td>\n",
       "      <td>0.0</td>\n",
       "      <td>...</td>\n",
       "      <td>0.0</td>\n",
       "      <td>1.0</td>\n",
       "      <td>24</td>\n",
       "      <td>12</td>\n",
       "      <td>2017</td>\n",
       "      <td>19</td>\n",
       "      <td>58</td>\n",
       "      <td>28</td>\n",
       "      <td>6</td>\n",
       "      <td>51</td>\n",
       "    </tr>\n",
       "    <tr>\n",
       "      <th>1</th>\n",
       "      <td>1</td>\n",
       "      <td>0</td>\n",
       "      <td>0</td>\n",
       "      <td>0</td>\n",
       "      <td>0</td>\n",
       "      <td>1</td>\n",
       "      <td>0.0</td>\n",
       "      <td>0.0</td>\n",
       "      <td>-0.500000</td>\n",
       "      <td>0.0</td>\n",
       "      <td>...</td>\n",
       "      <td>0.0</td>\n",
       "      <td>1.0</td>\n",
       "      <td>24</td>\n",
       "      <td>12</td>\n",
       "      <td>2017</td>\n",
       "      <td>20</td>\n",
       "      <td>0</td>\n",
       "      <td>47</td>\n",
       "      <td>6</td>\n",
       "      <td>51</td>\n",
       "    </tr>\n",
       "    <tr>\n",
       "      <th>2</th>\n",
       "      <td>1</td>\n",
       "      <td>0</td>\n",
       "      <td>0</td>\n",
       "      <td>0</td>\n",
       "      <td>0</td>\n",
       "      <td>1</td>\n",
       "      <td>0.0</td>\n",
       "      <td>0.0</td>\n",
       "      <td>0.000000</td>\n",
       "      <td>0.0</td>\n",
       "      <td>...</td>\n",
       "      <td>0.0</td>\n",
       "      <td>1.0</td>\n",
       "      <td>24</td>\n",
       "      <td>12</td>\n",
       "      <td>2017</td>\n",
       "      <td>20</td>\n",
       "      <td>1</td>\n",
       "      <td>53</td>\n",
       "      <td>6</td>\n",
       "      <td>51</td>\n",
       "    </tr>\n",
       "    <tr>\n",
       "      <th>3</th>\n",
       "      <td>0</td>\n",
       "      <td>0</td>\n",
       "      <td>0</td>\n",
       "      <td>0</td>\n",
       "      <td>0</td>\n",
       "      <td>1</td>\n",
       "      <td>0.0</td>\n",
       "      <td>0.0</td>\n",
       "      <td>0.500000</td>\n",
       "      <td>0.0</td>\n",
       "      <td>...</td>\n",
       "      <td>0.0</td>\n",
       "      <td>1.0</td>\n",
       "      <td>24</td>\n",
       "      <td>12</td>\n",
       "      <td>2017</td>\n",
       "      <td>20</td>\n",
       "      <td>2</td>\n",
       "      <td>48</td>\n",
       "      <td>6</td>\n",
       "      <td>51</td>\n",
       "    </tr>\n",
       "    <tr>\n",
       "      <th>4</th>\n",
       "      <td>1</td>\n",
       "      <td>0</td>\n",
       "      <td>0</td>\n",
       "      <td>0</td>\n",
       "      <td>0</td>\n",
       "      <td>1</td>\n",
       "      <td>0.0</td>\n",
       "      <td>0.0</td>\n",
       "      <td>0.750000</td>\n",
       "      <td>0.0</td>\n",
       "      <td>...</td>\n",
       "      <td>0.0</td>\n",
       "      <td>1.0</td>\n",
       "      <td>24</td>\n",
       "      <td>12</td>\n",
       "      <td>2017</td>\n",
       "      <td>20</td>\n",
       "      <td>4</td>\n",
       "      <td>46</td>\n",
       "      <td>6</td>\n",
       "      <td>51</td>\n",
       "    </tr>\n",
       "    <tr>\n",
       "      <th>...</th>\n",
       "      <td>...</td>\n",
       "      <td>...</td>\n",
       "      <td>...</td>\n",
       "      <td>...</td>\n",
       "      <td>...</td>\n",
       "      <td>...</td>\n",
       "      <td>...</td>\n",
       "      <td>...</td>\n",
       "      <td>...</td>\n",
       "      <td>...</td>\n",
       "      <td>...</td>\n",
       "      <td>...</td>\n",
       "      <td>...</td>\n",
       "      <td>...</td>\n",
       "      <td>...</td>\n",
       "      <td>...</td>\n",
       "      <td>...</td>\n",
       "      <td>...</td>\n",
       "      <td>...</td>\n",
       "      <td>...</td>\n",
       "      <td>...</td>\n",
       "    </tr>\n",
       "    <tr>\n",
       "      <th>3022</th>\n",
       "      <td>1</td>\n",
       "      <td>0</td>\n",
       "      <td>0</td>\n",
       "      <td>0</td>\n",
       "      <td>0</td>\n",
       "      <td>1</td>\n",
       "      <td>0.0</td>\n",
       "      <td>0.0</td>\n",
       "      <td>1.000000</td>\n",
       "      <td>0.0</td>\n",
       "      <td>...</td>\n",
       "      <td>0.0</td>\n",
       "      <td>1.0</td>\n",
       "      <td>22</td>\n",
       "      <td>12</td>\n",
       "      <td>2020</td>\n",
       "      <td>9</td>\n",
       "      <td>55</td>\n",
       "      <td>43</td>\n",
       "      <td>1</td>\n",
       "      <td>52</td>\n",
       "    </tr>\n",
       "    <tr>\n",
       "      <th>3023</th>\n",
       "      <td>1</td>\n",
       "      <td>0</td>\n",
       "      <td>0</td>\n",
       "      <td>0</td>\n",
       "      <td>0</td>\n",
       "      <td>1</td>\n",
       "      <td>0.0</td>\n",
       "      <td>0.0</td>\n",
       "      <td>1.500000</td>\n",
       "      <td>0.0</td>\n",
       "      <td>...</td>\n",
       "      <td>0.0</td>\n",
       "      <td>1.0</td>\n",
       "      <td>22</td>\n",
       "      <td>12</td>\n",
       "      <td>2020</td>\n",
       "      <td>9</td>\n",
       "      <td>57</td>\n",
       "      <td>53</td>\n",
       "      <td>1</td>\n",
       "      <td>52</td>\n",
       "    </tr>\n",
       "    <tr>\n",
       "      <th>3024</th>\n",
       "      <td>1</td>\n",
       "      <td>0</td>\n",
       "      <td>0</td>\n",
       "      <td>0</td>\n",
       "      <td>0</td>\n",
       "      <td>1</td>\n",
       "      <td>0.0</td>\n",
       "      <td>0.0</td>\n",
       "      <td>1.750000</td>\n",
       "      <td>0.0</td>\n",
       "      <td>...</td>\n",
       "      <td>0.0</td>\n",
       "      <td>1.0</td>\n",
       "      <td>22</td>\n",
       "      <td>12</td>\n",
       "      <td>2020</td>\n",
       "      <td>10</td>\n",
       "      <td>46</td>\n",
       "      <td>12</td>\n",
       "      <td>1</td>\n",
       "      <td>52</td>\n",
       "    </tr>\n",
       "    <tr>\n",
       "      <th>3025</th>\n",
       "      <td>1</td>\n",
       "      <td>0</td>\n",
       "      <td>0</td>\n",
       "      <td>0</td>\n",
       "      <td>1</td>\n",
       "      <td>0</td>\n",
       "      <td>0.0</td>\n",
       "      <td>128.0</td>\n",
       "      <td>0.051088</td>\n",
       "      <td>1.0</td>\n",
       "      <td>...</td>\n",
       "      <td>1.0</td>\n",
       "      <td>0.0</td>\n",
       "      <td>22</td>\n",
       "      <td>12</td>\n",
       "      <td>2020</td>\n",
       "      <td>11</td>\n",
       "      <td>39</td>\n",
       "      <td>56</td>\n",
       "      <td>1</td>\n",
       "      <td>52</td>\n",
       "    </tr>\n",
       "    <tr>\n",
       "      <th>3026</th>\n",
       "      <td>1</td>\n",
       "      <td>0</td>\n",
       "      <td>0</td>\n",
       "      <td>0</td>\n",
       "      <td>1</td>\n",
       "      <td>0</td>\n",
       "      <td>0.0</td>\n",
       "      <td>128.0</td>\n",
       "      <td>0.051088</td>\n",
       "      <td>1.0</td>\n",
       "      <td>...</td>\n",
       "      <td>1.0</td>\n",
       "      <td>0.0</td>\n",
       "      <td>23</td>\n",
       "      <td>12</td>\n",
       "      <td>2020</td>\n",
       "      <td>12</td>\n",
       "      <td>22</td>\n",
       "      <td>39</td>\n",
       "      <td>2</td>\n",
       "      <td>52</td>\n",
       "    </tr>\n",
       "  </tbody>\n",
       "</table>\n",
       "<p>3027 rows × 22 columns</p>\n",
       "</div>"
      ],
      "text/plain": [
       "      answer_is_correct  challenge_quiz  community_attempt  concept_quiz  \\\n",
       "0                     1               0                  0             0   \n",
       "1                     1               0                  0             0   \n",
       "2                     1               0                  0             0   \n",
       "3                     0               0                  0             0   \n",
       "4                     1               0                  0             0   \n",
       "...                 ...             ...                ...           ...   \n",
       "3022                  1               0                  0             0   \n",
       "3023                  1               0                  0             0   \n",
       "3024                  1               0                  0             0   \n",
       "3025                  1               0                  0             0   \n",
       "3026                  1               0                  0             0   \n",
       "\n",
       "      daily_problem_quiz  exploration_quiz  attempt_number  flags  position  \\\n",
       "0                      0                 1             0.0    0.0 -0.750000   \n",
       "1                      0                 1             0.0    0.0 -0.500000   \n",
       "2                      0                 1             0.0    0.0  0.000000   \n",
       "3                      0                 1             0.0    0.0  0.500000   \n",
       "4                      0                 1             0.0    0.0  0.750000   \n",
       "...                  ...               ...             ...    ...       ...   \n",
       "3022                   0                 1             0.0    0.0  1.000000   \n",
       "3023                   0                 1             0.0    0.0  1.500000   \n",
       "3024                   0                 1             0.0    0.0  1.750000   \n",
       "3025                   1                 0             0.0  128.0  0.051088   \n",
       "3026                   1                 0             0.0  128.0  0.051088   \n",
       "\n",
       "      quiz_user_try_number  ...  x1_  x1_quizproblemset  Day  Month  Year  \\\n",
       "0                      0.0  ...  0.0                1.0   24     12  2017   \n",
       "1                      0.0  ...  0.0                1.0   24     12  2017   \n",
       "2                      0.0  ...  0.0                1.0   24     12  2017   \n",
       "3                      0.0  ...  0.0                1.0   24     12  2017   \n",
       "4                      0.0  ...  0.0                1.0   24     12  2017   \n",
       "...                    ...  ...  ...                ...  ...    ...   ...   \n",
       "3022                   0.0  ...  0.0                1.0   22     12  2020   \n",
       "3023                   0.0  ...  0.0                1.0   22     12  2020   \n",
       "3024                   0.0  ...  0.0                1.0   22     12  2020   \n",
       "3025                   1.0  ...  1.0                0.0   22     12  2020   \n",
       "3026                   1.0  ...  1.0                0.0   23     12  2020   \n",
       "\n",
       "      Start_hour  Start_minute  Start_second  Start_weekday  \\\n",
       "0             19            58            28              6   \n",
       "1             20             0            47              6   \n",
       "2             20             1            53              6   \n",
       "3             20             2            48              6   \n",
       "4             20             4            46              6   \n",
       "...          ...           ...           ...            ...   \n",
       "3022           9            55            43              1   \n",
       "3023           9            57            53              1   \n",
       "3024          10            46            12              1   \n",
       "3025          11            39            56              1   \n",
       "3026          12            22            39              2   \n",
       "\n",
       "      Start_week_of_year  \n",
       "0                     51  \n",
       "1                     51  \n",
       "2                     51  \n",
       "3                     51  \n",
       "4                     51  \n",
       "...                  ...  \n",
       "3022                  52  \n",
       "3023                  52  \n",
       "3024                  52  \n",
       "3025                  52  \n",
       "3026                  52  \n",
       "\n",
       "[3027 rows x 22 columns]"
      ]
     },
     "execution_count": 354,
     "metadata": {},
     "output_type": "execute_result"
    }
   ],
   "source": [
    "df_pp"
   ]
  },
  {
   "cell_type": "code",
   "execution_count": 355,
   "metadata": {
    "ExecuteTime": {
     "end_time": "2020-12-25T22:59:11.466501Z",
     "start_time": "2020-12-25T22:59:11.458755Z"
    }
   },
   "outputs": [
    {
     "data": {
      "text/plain": [
       "answer_is_correct         int64\n",
       "challenge_quiz            int64\n",
       "community_attempt         int64\n",
       "concept_quiz              int64\n",
       "daily_problem_quiz        int64\n",
       "exploration_quiz          int64\n",
       "attempt_number          float64\n",
       "flags                   float64\n",
       "position                float64\n",
       "quiz_user_try_number    float64\n",
       "x0_                     float64\n",
       "x0_quizzes              float64\n",
       "x1_                     float64\n",
       "x1_quizproblemset       float64\n",
       "Day                       int64\n",
       "Month                     int64\n",
       "Year                      int64\n",
       "Start_hour                int64\n",
       "Start_minute              int64\n",
       "Start_second              int64\n",
       "Start_weekday             int64\n",
       "Start_week_of_year        int64\n",
       "dtype: object"
      ]
     },
     "execution_count": 355,
     "metadata": {},
     "output_type": "execute_result"
    }
   ],
   "source": [
    "df_pp.dtypes"
   ]
  },
  {
   "cell_type": "code",
   "execution_count": 360,
   "metadata": {
    "ExecuteTime": {
     "end_time": "2020-12-25T23:04:19.341549Z",
     "start_time": "2020-12-25T23:04:19.335230Z"
    }
   },
   "outputs": [],
   "source": [
    "y = df_pp[\"answer_is_correct\"]\n",
    "x = df_pp.drop(\"answer_is_correct\", axis=1)"
   ]
  },
  {
   "cell_type": "code",
   "execution_count": 418,
   "metadata": {
    "ExecuteTime": {
     "end_time": "2020-12-25T23:24:03.090373Z",
     "start_time": "2020-12-25T23:24:03.000049Z"
    }
   },
   "outputs": [
    {
     "data": {
      "text/html": [
       "<div>\n",
       "<style scoped>\n",
       "    .dataframe tbody tr th:only-of-type {\n",
       "        vertical-align: middle;\n",
       "    }\n",
       "\n",
       "    .dataframe tbody tr th {\n",
       "        vertical-align: top;\n",
       "    }\n",
       "\n",
       "    .dataframe thead th {\n",
       "        text-align: right;\n",
       "    }\n",
       "</style>\n",
       "<table border=\"1\" class=\"dataframe\">\n",
       "  <thead>\n",
       "    <tr style=\"text-align: right;\">\n",
       "      <th></th>\n",
       "      <th>challenge_quiz</th>\n",
       "      <th>community_attempt</th>\n",
       "      <th>concept_quiz</th>\n",
       "      <th>daily_problem_quiz</th>\n",
       "      <th>exploration_quiz</th>\n",
       "      <th>attempt_number</th>\n",
       "      <th>flags</th>\n",
       "      <th>position</th>\n",
       "      <th>quiz_user_try_number</th>\n",
       "      <th>x0_</th>\n",
       "      <th>...</th>\n",
       "      <th>x1_</th>\n",
       "      <th>x1_quizproblemset</th>\n",
       "      <th>Day</th>\n",
       "      <th>Month</th>\n",
       "      <th>Year</th>\n",
       "      <th>Start_hour</th>\n",
       "      <th>Start_minute</th>\n",
       "      <th>Start_second</th>\n",
       "      <th>Start_weekday</th>\n",
       "      <th>Start_week_of_year</th>\n",
       "    </tr>\n",
       "  </thead>\n",
       "  <tbody>\n",
       "    <tr>\n",
       "      <th>count</th>\n",
       "      <td>3027.0</td>\n",
       "      <td>3027.000000</td>\n",
       "      <td>3027.000000</td>\n",
       "      <td>3027.000000</td>\n",
       "      <td>3027.000000</td>\n",
       "      <td>3027.000000</td>\n",
       "      <td>3027.000000</td>\n",
       "      <td>3027.000000</td>\n",
       "      <td>3027.000000</td>\n",
       "      <td>3027.000000</td>\n",
       "      <td>...</td>\n",
       "      <td>3027.000000</td>\n",
       "      <td>3027.000000</td>\n",
       "      <td>3027.000000</td>\n",
       "      <td>3027.000000</td>\n",
       "      <td>3027.000000</td>\n",
       "      <td>3027.000000</td>\n",
       "      <td>3027.000000</td>\n",
       "      <td>3027.000000</td>\n",
       "      <td>3027.000000</td>\n",
       "      <td>3027.000000</td>\n",
       "    </tr>\n",
       "    <tr>\n",
       "      <th>mean</th>\n",
       "      <td>0.0</td>\n",
       "      <td>0.002973</td>\n",
       "      <td>0.008920</td>\n",
       "      <td>0.070697</td>\n",
       "      <td>0.895937</td>\n",
       "      <td>0.000661</td>\n",
       "      <td>11.480674</td>\n",
       "      <td>0.051088</td>\n",
       "      <td>1.000000</td>\n",
       "      <td>0.073670</td>\n",
       "      <td>...</td>\n",
       "      <td>0.073670</td>\n",
       "      <td>0.926330</td>\n",
       "      <td>17.480344</td>\n",
       "      <td>7.294020</td>\n",
       "      <td>2018.882061</td>\n",
       "      <td>13.185993</td>\n",
       "      <td>29.608854</td>\n",
       "      <td>29.613479</td>\n",
       "      <td>2.966303</td>\n",
       "      <td>29.982161</td>\n",
       "    </tr>\n",
       "    <tr>\n",
       "      <th>std</th>\n",
       "      <td>0.0</td>\n",
       "      <td>0.054455</td>\n",
       "      <td>0.094038</td>\n",
       "      <td>0.256360</td>\n",
       "      <td>0.305393</td>\n",
       "      <td>0.025700</td>\n",
       "      <td>33.236518</td>\n",
       "      <td>0.683610</td>\n",
       "      <td>2.130914</td>\n",
       "      <td>0.261277</td>\n",
       "      <td>...</td>\n",
       "      <td>0.261277</td>\n",
       "      <td>0.261277</td>\n",
       "      <td>8.085498</td>\n",
       "      <td>3.736545</td>\n",
       "      <td>0.887025</td>\n",
       "      <td>5.840926</td>\n",
       "      <td>18.014800</td>\n",
       "      <td>17.197405</td>\n",
       "      <td>2.113483</td>\n",
       "      <td>16.577334</td>\n",
       "    </tr>\n",
       "    <tr>\n",
       "      <th>min</th>\n",
       "      <td>0.0</td>\n",
       "      <td>0.000000</td>\n",
       "      <td>0.000000</td>\n",
       "      <td>0.000000</td>\n",
       "      <td>0.000000</td>\n",
       "      <td>0.000000</td>\n",
       "      <td>0.000000</td>\n",
       "      <td>-1.000000</td>\n",
       "      <td>0.000000</td>\n",
       "      <td>0.000000</td>\n",
       "      <td>...</td>\n",
       "      <td>0.000000</td>\n",
       "      <td>0.000000</td>\n",
       "      <td>1.000000</td>\n",
       "      <td>1.000000</td>\n",
       "      <td>2017.000000</td>\n",
       "      <td>0.000000</td>\n",
       "      <td>0.000000</td>\n",
       "      <td>0.000000</td>\n",
       "      <td>0.000000</td>\n",
       "      <td>1.000000</td>\n",
       "    </tr>\n",
       "    <tr>\n",
       "      <th>25%</th>\n",
       "      <td>0.0</td>\n",
       "      <td>0.000000</td>\n",
       "      <td>0.000000</td>\n",
       "      <td>0.000000</td>\n",
       "      <td>1.000000</td>\n",
       "      <td>0.000000</td>\n",
       "      <td>0.000000</td>\n",
       "      <td>-0.500000</td>\n",
       "      <td>0.000000</td>\n",
       "      <td>0.000000</td>\n",
       "      <td>...</td>\n",
       "      <td>0.000000</td>\n",
       "      <td>1.000000</td>\n",
       "      <td>12.000000</td>\n",
       "      <td>4.000000</td>\n",
       "      <td>2018.000000</td>\n",
       "      <td>8.000000</td>\n",
       "      <td>13.000000</td>\n",
       "      <td>15.000000</td>\n",
       "      <td>1.000000</td>\n",
       "      <td>15.000000</td>\n",
       "    </tr>\n",
       "    <tr>\n",
       "      <th>50%</th>\n",
       "      <td>0.0</td>\n",
       "      <td>0.000000</td>\n",
       "      <td>0.000000</td>\n",
       "      <td>0.000000</td>\n",
       "      <td>1.000000</td>\n",
       "      <td>0.000000</td>\n",
       "      <td>0.000000</td>\n",
       "      <td>0.000000</td>\n",
       "      <td>0.000000</td>\n",
       "      <td>0.000000</td>\n",
       "      <td>...</td>\n",
       "      <td>0.000000</td>\n",
       "      <td>1.000000</td>\n",
       "      <td>18.000000</td>\n",
       "      <td>8.000000</td>\n",
       "      <td>2019.000000</td>\n",
       "      <td>13.000000</td>\n",
       "      <td>30.000000</td>\n",
       "      <td>29.000000</td>\n",
       "      <td>3.000000</td>\n",
       "      <td>31.000000</td>\n",
       "    </tr>\n",
       "    <tr>\n",
       "      <th>75%</th>\n",
       "      <td>0.0</td>\n",
       "      <td>0.000000</td>\n",
       "      <td>0.000000</td>\n",
       "      <td>0.000000</td>\n",
       "      <td>1.000000</td>\n",
       "      <td>0.000000</td>\n",
       "      <td>0.000000</td>\n",
       "      <td>0.500000</td>\n",
       "      <td>1.000000</td>\n",
       "      <td>0.000000</td>\n",
       "      <td>...</td>\n",
       "      <td>0.000000</td>\n",
       "      <td>1.000000</td>\n",
       "      <td>24.000000</td>\n",
       "      <td>11.000000</td>\n",
       "      <td>2020.000000</td>\n",
       "      <td>18.000000</td>\n",
       "      <td>46.000000</td>\n",
       "      <td>45.000000</td>\n",
       "      <td>5.000000</td>\n",
       "      <td>46.000000</td>\n",
       "    </tr>\n",
       "    <tr>\n",
       "      <th>max</th>\n",
       "      <td>0.0</td>\n",
       "      <td>1.000000</td>\n",
       "      <td>1.000000</td>\n",
       "      <td>1.000000</td>\n",
       "      <td>1.000000</td>\n",
       "      <td>1.000000</td>\n",
       "      <td>128.000000</td>\n",
       "      <td>2.500000</td>\n",
       "      <td>17.139364</td>\n",
       "      <td>1.000000</td>\n",
       "      <td>...</td>\n",
       "      <td>1.000000</td>\n",
       "      <td>1.000000</td>\n",
       "      <td>31.000000</td>\n",
       "      <td>12.000000</td>\n",
       "      <td>2020.000000</td>\n",
       "      <td>23.000000</td>\n",
       "      <td>59.000000</td>\n",
       "      <td>59.000000</td>\n",
       "      <td>6.000000</td>\n",
       "      <td>52.000000</td>\n",
       "    </tr>\n",
       "  </tbody>\n",
       "</table>\n",
       "<p>8 rows × 21 columns</p>\n",
       "</div>"
      ],
      "text/plain": [
       "       challenge_quiz  community_attempt  concept_quiz  daily_problem_quiz  \\\n",
       "count          3027.0        3027.000000   3027.000000         3027.000000   \n",
       "mean              0.0           0.002973      0.008920            0.070697   \n",
       "std               0.0           0.054455      0.094038            0.256360   \n",
       "min               0.0           0.000000      0.000000            0.000000   \n",
       "25%               0.0           0.000000      0.000000            0.000000   \n",
       "50%               0.0           0.000000      0.000000            0.000000   \n",
       "75%               0.0           0.000000      0.000000            0.000000   \n",
       "max               0.0           1.000000      1.000000            1.000000   \n",
       "\n",
       "       exploration_quiz  attempt_number        flags     position  \\\n",
       "count       3027.000000     3027.000000  3027.000000  3027.000000   \n",
       "mean           0.895937        0.000661    11.480674     0.051088   \n",
       "std            0.305393        0.025700    33.236518     0.683610   \n",
       "min            0.000000        0.000000     0.000000    -1.000000   \n",
       "25%            1.000000        0.000000     0.000000    -0.500000   \n",
       "50%            1.000000        0.000000     0.000000     0.000000   \n",
       "75%            1.000000        0.000000     0.000000     0.500000   \n",
       "max            1.000000        1.000000   128.000000     2.500000   \n",
       "\n",
       "       quiz_user_try_number          x0_  ...          x1_  x1_quizproblemset  \\\n",
       "count           3027.000000  3027.000000  ...  3027.000000        3027.000000   \n",
       "mean               1.000000     0.073670  ...     0.073670           0.926330   \n",
       "std                2.130914     0.261277  ...     0.261277           0.261277   \n",
       "min                0.000000     0.000000  ...     0.000000           0.000000   \n",
       "25%                0.000000     0.000000  ...     0.000000           1.000000   \n",
       "50%                0.000000     0.000000  ...     0.000000           1.000000   \n",
       "75%                1.000000     0.000000  ...     0.000000           1.000000   \n",
       "max               17.139364     1.000000  ...     1.000000           1.000000   \n",
       "\n",
       "               Day        Month         Year   Start_hour  Start_minute  \\\n",
       "count  3027.000000  3027.000000  3027.000000  3027.000000   3027.000000   \n",
       "mean     17.480344     7.294020  2018.882061    13.185993     29.608854   \n",
       "std       8.085498     3.736545     0.887025     5.840926     18.014800   \n",
       "min       1.000000     1.000000  2017.000000     0.000000      0.000000   \n",
       "25%      12.000000     4.000000  2018.000000     8.000000     13.000000   \n",
       "50%      18.000000     8.000000  2019.000000    13.000000     30.000000   \n",
       "75%      24.000000    11.000000  2020.000000    18.000000     46.000000   \n",
       "max      31.000000    12.000000  2020.000000    23.000000     59.000000   \n",
       "\n",
       "       Start_second  Start_weekday  Start_week_of_year  \n",
       "count   3027.000000    3027.000000         3027.000000  \n",
       "mean      29.613479       2.966303           29.982161  \n",
       "std       17.197405       2.113483           16.577334  \n",
       "min        0.000000       0.000000            1.000000  \n",
       "25%       15.000000       1.000000           15.000000  \n",
       "50%       29.000000       3.000000           31.000000  \n",
       "75%       45.000000       5.000000           46.000000  \n",
       "max       59.000000       6.000000           52.000000  \n",
       "\n",
       "[8 rows x 21 columns]"
      ]
     },
     "execution_count": 418,
     "metadata": {},
     "output_type": "execute_result"
    }
   ],
   "source": [
    "x.describe()"
   ]
  },
  {
   "cell_type": "markdown",
   "metadata": {},
   "source": [
    "# modeling"
   ]
  },
  {
   "cell_type": "code",
   "execution_count": 361,
   "metadata": {
    "ExecuteTime": {
     "end_time": "2020-12-25T23:05:05.915884Z",
     "start_time": "2020-12-25T23:05:05.083565Z"
    }
   },
   "outputs": [
    {
     "name": "stderr",
     "output_type": "stream",
     "text": [
      "/home/alex/.local/lib/python3.6/site-packages/sklearn/linear_model/_logistic.py:764: ConvergenceWarning: lbfgs failed to converge (status=1):\n",
      "STOP: TOTAL NO. of ITERATIONS REACHED LIMIT.\n",
      "\n",
      "Increase the number of iterations (max_iter) or scale the data as shown in:\n",
      "    https://scikit-learn.org/stable/modules/preprocessing.html\n",
      "Please also refer to the documentation for alternative solver options:\n",
      "    https://scikit-learn.org/stable/modules/linear_model.html#logistic-regression\n",
      "  extra_warning_msg=_LOGISTIC_SOLVER_CONVERGENCE_MSG)\n",
      "/home/alex/.local/lib/python3.6/site-packages/sklearn/linear_model/_logistic.py:764: ConvergenceWarning: lbfgs failed to converge (status=1):\n",
      "STOP: TOTAL NO. of ITERATIONS REACHED LIMIT.\n",
      "\n",
      "Increase the number of iterations (max_iter) or scale the data as shown in:\n",
      "    https://scikit-learn.org/stable/modules/preprocessing.html\n",
      "Please also refer to the documentation for alternative solver options:\n",
      "    https://scikit-learn.org/stable/modules/linear_model.html#logistic-regression\n",
      "  extra_warning_msg=_LOGISTIC_SOLVER_CONVERGENCE_MSG)\n",
      "/home/alex/.local/lib/python3.6/site-packages/sklearn/linear_model/_logistic.py:764: ConvergenceWarning: lbfgs failed to converge (status=1):\n",
      "STOP: TOTAL NO. of ITERATIONS REACHED LIMIT.\n",
      "\n",
      "Increase the number of iterations (max_iter) or scale the data as shown in:\n",
      "    https://scikit-learn.org/stable/modules/preprocessing.html\n",
      "Please also refer to the documentation for alternative solver options:\n",
      "    https://scikit-learn.org/stable/modules/linear_model.html#logistic-regression\n",
      "  extra_warning_msg=_LOGISTIC_SOLVER_CONVERGENCE_MSG)\n",
      "/home/alex/.local/lib/python3.6/site-packages/sklearn/linear_model/_logistic.py:764: ConvergenceWarning: lbfgs failed to converge (status=1):\n",
      "STOP: TOTAL NO. of ITERATIONS REACHED LIMIT.\n",
      "\n",
      "Increase the number of iterations (max_iter) or scale the data as shown in:\n",
      "    https://scikit-learn.org/stable/modules/preprocessing.html\n",
      "Please also refer to the documentation for alternative solver options:\n",
      "    https://scikit-learn.org/stable/modules/linear_model.html#logistic-regression\n",
      "  extra_warning_msg=_LOGISTIC_SOLVER_CONVERGENCE_MSG)\n",
      "/home/alex/.local/lib/python3.6/site-packages/sklearn/linear_model/_logistic.py:764: ConvergenceWarning: lbfgs failed to converge (status=1):\n",
      "STOP: TOTAL NO. of ITERATIONS REACHED LIMIT.\n",
      "\n",
      "Increase the number of iterations (max_iter) or scale the data as shown in:\n",
      "    https://scikit-learn.org/stable/modules/preprocessing.html\n",
      "Please also refer to the documentation for alternative solver options:\n",
      "    https://scikit-learn.org/stable/modules/linear_model.html#logistic-regression\n",
      "  extra_warning_msg=_LOGISTIC_SOLVER_CONVERGENCE_MSG)\n"
     ]
    }
   ],
   "source": [
    "lr = LogisticRegression()\n",
    "scoring = ('accuracy', 'r2')\n",
    "cvScr = cross_validate(lr,x,y,cv=5, \n",
    "                       scoring=scoring, \n",
    "                       return_train_score=True)"
   ]
  },
  {
   "cell_type": "code",
   "execution_count": 362,
   "metadata": {
    "ExecuteTime": {
     "end_time": "2020-12-25T23:05:19.609415Z",
     "start_time": "2020-12-25T23:05:19.604565Z"
    }
   },
   "outputs": [
    {
     "data": {
      "text/plain": [
       "0.8562921746720127"
      ]
     },
     "execution_count": 362,
     "metadata": {},
     "output_type": "execute_result"
    }
   ],
   "source": [
    "cvScr['test_accuracy'].mean()"
   ]
  },
  {
   "cell_type": "code",
   "execution_count": 372,
   "metadata": {
    "ExecuteTime": {
     "end_time": "2020-12-25T23:06:58.208369Z",
     "start_time": "2020-12-25T23:06:56.450146Z"
    }
   },
   "outputs": [],
   "source": [
    "rfc = RandomForestClassifier()\n",
    "rfcCV = cross_validate(rfc,x,y,cv=5, \n",
    "                       scoring=scoring, \n",
    "                       return_train_score=True)"
   ]
  },
  {
   "cell_type": "code",
   "execution_count": 373,
   "metadata": {
    "ExecuteTime": {
     "end_time": "2020-12-25T23:06:58.217233Z",
     "start_time": "2020-12-25T23:06:58.210549Z"
    }
   },
   "outputs": [
    {
     "data": {
      "text/plain": [
       "{'fit_time': array([0.30563426, 0.29508257, 0.28788114, 0.29037833, 0.28851581]),\n",
       " 'score_time': array([0.01806855, 0.0186801 , 0.01933599, 0.01978779, 0.01915646]),\n",
       " 'test_accuracy': array([0.7689769 , 0.68151815, 0.66280992, 0.61157025, 0.85950413]),\n",
       " 'train_accuracy': array([1., 1., 1., 1., 1.]),\n",
       " 'test_r2': array([-0.89713775, -1.61533989, -1.79230769, -2.21662896, -0.16346154]),\n",
       " 'train_r2': array([1., 1., 1., 1., 1.])}"
      ]
     },
     "execution_count": 373,
     "metadata": {},
     "output_type": "execute_result"
    }
   ],
   "source": [
    "rfcCV"
   ]
  },
  {
   "cell_type": "code",
   "execution_count": 374,
   "metadata": {
    "ExecuteTime": {
     "end_time": "2020-12-25T23:06:59.067157Z",
     "start_time": "2020-12-25T23:06:59.062842Z"
    }
   },
   "outputs": [
    {
     "data": {
      "text/plain": [
       "0.7168758694051223"
      ]
     },
     "execution_count": 374,
     "metadata": {},
     "output_type": "execute_result"
    }
   ],
   "source": [
    "rfcCV['test_accuracy'].mean()"
   ]
  },
  {
   "cell_type": "markdown",
   "metadata": {},
   "source": [
    "# tuning"
   ]
  },
  {
   "cell_type": "code",
   "execution_count": 388,
   "metadata": {
    "ExecuteTime": {
     "end_time": "2020-12-25T23:11:54.713730Z",
     "start_time": "2020-12-25T23:10:56.591700Z"
    }
   },
   "outputs": [],
   "source": [
    "space  = [  Integer(10, 100, name='n_estimators'),\n",
    "            Integer(10, 100, name='max_depth'),\n",
    "            Integer(1, 100, name='min_samples_leaf'),\n",
    "            Integer(2, 50, name='min_samples_split') #,\n",
    "            #Categorical(['auto', 'sqrt', 'log2'], name='max_features')\n",
    "         ]\n",
    "\n",
    "res_gp_rf = skot_hyperopt(space, rfc, x, y)"
   ]
  },
  {
   "cell_type": "code",
   "execution_count": 389,
   "metadata": {
    "ExecuteTime": {
     "end_time": "2020-12-25T23:11:55.220013Z",
     "start_time": "2020-12-25T23:11:54.716381Z"
    }
   },
   "outputs": [
    {
     "name": "stdout",
     "output_type": "stream",
     "text": [
      "Best score=-0.8821\n",
      "Best parameters:\n",
      "n_estimators=82\n",
      "max_depth=26\n",
      "min_samples_leaf=10\n",
      "min_samples_split=22\n",
      "\n"
     ]
    },
    {
     "data": {
      "text/plain": [
       "<AxesSubplot:title={'center':'Convergence plot'}, xlabel='Number of calls $n$', ylabel='$\\\\min f(x)$ after $n$ calls'>"
      ]
     },
     "execution_count": 389,
     "metadata": {},
     "output_type": "execute_result"
    },
    {
     "data": {
      "image/png": "[encoded data removed]",
      "text/plain": [
       "<Figure size 432x288 with 1 Axes>"
      ]
     },
     "metadata": {
      "needs_background": "light"
     },
     "output_type": "display_data"
    }
   ],
   "source": [
    "print(\"Best score=%.4f\" % res_gp_rf.fun)\n",
    "print(\"\"\"Best parameters:\n",
    "n_estimators=%d\n",
    "max_depth=%d\n",
    "min_samples_leaf=%d\n",
    "min_samples_split=%d\n",
    "\"\"\" % (res_gp_rf.x[0], res_gp_rf.x[1],res_gp_rf.x[2], res_gp_rf.x[3]))\n",
    "plot_convergence(res_gp_rf)"
   ]
  },
  {
   "cell_type": "code",
   "execution_count": 390,
   "metadata": {
    "ExecuteTime": {
     "end_time": "2020-12-25T23:14:35.930542Z",
     "start_time": "2020-12-25T23:14:34.462522Z"
    }
   },
   "outputs": [],
   "source": [
    "rfc = RandomForestClassifier(\n",
    "                           oob_score=True,\n",
    "                           n_estimators=82,\n",
    "                           max_depth=26,\n",
    "                           min_samples_leaf=10,\n",
    "                           min_samples_split=22)\n",
    "\n",
    "rfcCV = cross_validate(rfc,x,y,cv=5, \n",
    "                       scoring=scoring, \n",
    "                       return_train_score=True)\n",
    "\n"
   ]
  },
  {
   "cell_type": "code",
   "execution_count": 398,
   "metadata": {
    "ExecuteTime": {
     "end_time": "2020-12-25T23:17:48.043553Z",
     "start_time": "2020-12-25T23:17:47.741490Z"
    }
   },
   "outputs": [
    {
     "data": {
      "text/plain": [
       "RandomForestClassifier(max_depth=26, min_samples_leaf=10, min_samples_split=22,\n",
       "                       n_estimators=82, oob_score=True)"
      ]
     },
     "execution_count": 398,
     "metadata": {},
     "output_type": "execute_result"
    }
   ],
   "source": [
    "rfc.fit(x,y)"
   ]
  },
  {
   "cell_type": "code",
   "execution_count": 392,
   "metadata": {
    "ExecuteTime": {
     "end_time": "2020-12-25T23:15:00.367581Z",
     "start_time": "2020-12-25T23:15:00.363108Z"
    }
   },
   "outputs": [
    {
     "data": {
      "text/plain": [
       "0.882380056187437"
      ]
     },
     "execution_count": 392,
     "metadata": {},
     "output_type": "execute_result"
    }
   ],
   "source": [
    "rfcCV['test_accuracy'].mean()"
   ]
  },
  {
   "cell_type": "code",
   "execution_count": 397,
   "metadata": {
    "ExecuteTime": {
     "end_time": "2020-12-25T23:17:02.013238Z",
     "start_time": "2020-12-25T23:17:01.984311Z"
    }
   },
   "outputs": [],
   "source": [
    "??rfc"
   ]
  },
  {
   "cell_type": "code",
   "execution_count": 416,
   "metadata": {
    "ExecuteTime": {
     "end_time": "2020-12-25T23:22:45.492665Z",
     "start_time": "2020-12-25T23:22:45.294642Z"
    }
   },
   "outputs": [
    {
     "data": {
      "text/plain": [
       "<AxesSubplot:>"
      ]
     },
     "execution_count": 416,
     "metadata": {},
     "output_type": "execute_result"
    },
    {
     "data": {
      "image/png": "[encoded data removed]",
      "text/plain": [
       "<Figure size 432x288 with 1 Axes>"
      ]
     },
     "metadata": {
      "needs_background": "light"
     },
     "output_type": "display_data"
    }
   ],
   "source": [
    "(pd.Series(rfc.feature_importances_, index=x.columns)\n",
    "   .nlargest(10)\n",
    "   .plot(kind='barh')) "
   ]
  },
  {
   "cell_type": "code",
   "execution_count": 444,
   "metadata": {
    "ExecuteTime": {
     "end_time": "2020-12-25T23:33:18.480231Z",
     "start_time": "2020-12-25T23:33:18.476799Z"
    }
   },
   "outputs": [],
   "source": [
    "labels = []\n",
    "for i in indices:\n",
    "    labels.append(x.columns[i])"
   ]
  },
  {
   "cell_type": "code",
   "execution_count": 421,
   "metadata": {
    "ExecuteTime": {
     "end_time": "2020-12-25T23:26:13.735618Z",
     "start_time": "2020-12-25T23:26:13.715888Z"
    }
   },
   "outputs": [],
   "source": [
    "importances = rfc.feature_importances_\n",
    "indices = np.argsort(importances)\n",
    "std = np.std([tree.feature_importances_ for tree in rfc.estimators_],\n",
    "             axis=0)"
   ]
  },
  {
   "cell_type": "code",
   "execution_count": 441,
   "metadata": {
    "ExecuteTime": {
     "end_time": "2020-12-25T23:31:48.241337Z",
     "start_time": "2020-12-25T23:31:48.236966Z"
    }
   },
   "outputs": [
    {
     "data": {
      "text/plain": [
       "range(0, 21)"
      ]
     },
     "execution_count": 441,
     "metadata": {},
     "output_type": "execute_result"
    }
   ],
   "source": [
    "range(x.shape[1])"
   ]
  },
  {
   "cell_type": "code",
   "execution_count": 439,
   "metadata": {
    "ExecuteTime": {
     "end_time": "2020-12-25T23:31:37.153487Z",
     "start_time": "2020-12-25T23:31:37.149436Z"
    }
   },
   "outputs": [
    {
     "data": {
      "text/plain": [
       "array([ 0,  1,  5,  2,  4, 12,  9,  8,  3, 10, 15, 11, 14, 19,  7, 20, 13,\n",
       "       16, 17, 18,  6])"
      ]
     },
     "execution_count": 439,
     "metadata": {},
     "output_type": "execute_result"
    }
   ],
   "source": [
    "indices"
   ]
  },
  {
   "cell_type": "code",
   "execution_count": 443,
   "metadata": {
    "ExecuteTime": {
     "end_time": "2020-12-25T23:33:09.792016Z",
     "start_time": "2020-12-25T23:33:09.788349Z"
    }
   },
   "outputs": [
    {
     "data": {
      "text/plain": [
       "'flags'"
      ]
     },
     "execution_count": 443,
     "metadata": {},
     "output_type": "execute_result"
    }
   ],
   "source": [
    "labels"
   ]
  },
  {
   "cell_type": "code",
   "execution_count": 446,
   "metadata": {
    "ExecuteTime": {
     "end_time": "2020-12-25T23:33:32.626174Z",
     "start_time": "2020-12-25T23:33:32.345425Z"
    }
   },
   "outputs": [
    {
     "data": {
      "image/png": "[encoded data removed]",
      "text/plain": [
       "<Figure size 432x288 with 1 Axes>"
      ]
     },
     "metadata": {
      "needs_background": "light"
     },
     "output_type": "display_data"
    }
   ],
   "source": [
    "# Plot the feature importances of the forest\n",
    "plt.figure()\n",
    "plt.title(\"Feature importances\")\n",
    "plt.barh(range(x.shape[1]), importances[indices],\n",
    "       color=\"r\", xerr=std[indices], align=\"center\")\n",
    "# If you want to define your own labels,\n",
    "# change indices to a list of labels on the following line.\n",
    "#plt.yticks(range(x.shape[1]), indices)\n",
    "plt.yticks(range(x.shape[1]),labels)\n",
    "plt.ylim([-1, x.shape[1]])\n",
    "plt.show()"
   ]
  },
  {
   "cell_type": "code",
   "execution_count": 452,
   "metadata": {
    "ExecuteTime": {
     "end_time": "2020-12-25T23:35:27.015391Z",
     "start_time": "2020-12-25T23:35:27.007210Z"
    }
   },
   "outputs": [
    {
     "data": {
      "text/plain": [
       "flags\n",
       "0.0      2583\n",
       "32.0      230\n",
       "128.0     214\n",
       "dtype: int64"
      ]
     },
     "execution_count": 452,
     "metadata": {},
     "output_type": "execute_result"
    }
   ],
   "source": [
    "pd.DataFrame(x[\"flags\"]).groupby(\"flags\").size()"
   ]
  },
  {
   "cell_type": "code",
   "execution_count": 454,
   "metadata": {
    "ExecuteTime": {
     "end_time": "2020-12-25T23:36:00.210163Z",
     "start_time": "2020-12-25T23:36:00.201806Z"
    }
   },
   "outputs": [
    {
     "data": {
      "text/plain": [
       "flags\n",
       "0      2728\n",
       "8       460\n",
       "32      237\n",
       "72        1\n",
       "128     270\n",
       "dtype: int64"
      ]
     },
     "execution_count": 454,
     "metadata": {},
     "output_type": "execute_result"
    }
   ],
   "source": [
    "pd.DataFrame(data[\"flags\"]).groupby(\"flags\").size()"
   ]
  },
  {
   "cell_type": "code",
   "execution_count": 458,
   "metadata": {
    "ExecuteTime": {
     "end_time": "2020-12-25T23:37:08.617585Z",
     "start_time": "2020-12-25T23:37:08.599772Z"
    }
   },
   "outputs": [
    {
     "data": {
      "text/plain": [
       "attempt_number  flags\n",
       "0               0         145\n",
       "                8         460\n",
       "                32          7\n",
       "                72          1\n",
       "                128        56\n",
       "1               0        2581\n",
       "                32        230\n",
       "                128       214\n",
       "2               0           2\n",
       "dtype: int64"
      ]
     },
     "execution_count": 458,
     "metadata": {},
     "output_type": "execute_result"
    }
   ],
   "source": [
    "data.groupby([\"attempt_number\", \"flags\"]).size()"
   ]
  },
  {
   "cell_type": "code",
   "execution_count": 484,
   "metadata": {
    "ExecuteTime": {
     "end_time": "2020-12-25T23:46:55.481088Z",
     "start_time": "2020-12-25T23:46:55.475674Z"
    }
   },
   "outputs": [
    {
     "data": {
      "text/plain": [
       "0         0.0\n",
       "1         0.0\n",
       "2         0.0\n",
       "3         0.0\n",
       "4         0.0\n",
       "        ...  \n",
       "3022      0.0\n",
       "3023      0.0\n",
       "3024      0.0\n",
       "3025    128.0\n",
       "3026    128.0\n",
       "Name: flags, Length: 3027, dtype: float64"
      ]
     },
     "execution_count": 484,
     "metadata": {},
     "output_type": "execute_result"
    }
   ],
   "source": []
  },
  {
   "cell_type": "code",
   "execution_count": 487,
   "metadata": {
    "ExecuteTime": {
     "end_time": "2020-12-25T23:48:26.224634Z",
     "start_time": "2020-12-25T23:48:26.212182Z"
    }
   },
   "outputs": [
    {
     "data": {
      "text/plain": [
       "flags\n",
       "0.0      0.777337\n",
       "32.0     0.019822\n",
       "128.0    0.061777\n",
       "Name: correct, dtype: float64"
      ]
     },
     "execution_count": 487,
     "metadata": {},
     "output_type": "execute_result"
    }
   ],
   "source": [
    "finalDF = pd.DataFrame({\"flags\":list(x.flags), \"correct\":list(y)})\n",
    "finalDF.groupby('flags').correct.sum()/finalDF.shape[0]"
   ]
  },
  {
   "cell_type": "code",
   "execution_count": 462,
   "metadata": {
    "ExecuteTime": {
     "end_time": "2020-12-25T23:40:03.529389Z",
     "start_time": "2020-12-25T23:40:03.525390Z"
    }
   },
   "outputs": [],
   "source": [
    "idx = x[x.flags>0].index"
   ]
  },
  {
   "cell_type": "code",
   "execution_count": 475,
   "metadata": {
    "ExecuteTime": {
     "end_time": "2020-12-25T23:44:00.988769Z",
     "start_time": "2020-12-25T23:44:00.982649Z"
    }
   },
   "outputs": [],
   "source": [
    "flags = list(x.flags[idx])\n",
    "correct = list(y[idx])\n",
    "final = pd.DataFrame({\"flags\":flags, \"correct\": correct})"
   ]
  },
  {
   "cell_type": "code",
   "execution_count": 479,
   "metadata": {
    "ExecuteTime": {
     "end_time": "2020-12-25T23:45:27.285891Z",
     "start_time": "2020-12-25T23:45:27.281979Z"
    }
   },
   "outputs": [
    {
     "data": {
      "text/plain": [
       "(444, 2)"
      ]
     },
     "execution_count": 479,
     "metadata": {},
     "output_type": "execute_result"
    }
   ],
   "source": [
    "final.shape"
   ]
  },
  {
   "cell_type": "code",
   "execution_count": 480,
   "metadata": {
    "ExecuteTime": {
     "end_time": "2020-12-25T23:45:31.362999Z",
     "start_time": "2020-12-25T23:45:31.353931Z"
    }
   },
   "outputs": [
    {
     "data": {
      "text/plain": [
       "flags\n",
       "32.0     0.135135\n",
       "128.0    0.421171\n",
       "Name: correct, dtype: float64"
      ]
     },
     "execution_count": 480,
     "metadata": {},
     "output_type": "execute_result"
    }
   ],
   "source": [
    "final.groupby(\"flags\").correct.agg(sum)/444"
   ]
  },
  {
   "cell_type": "code",
   "execution_count": null,
   "metadata": {},
   "outputs": [],
   "source": []
  }
 ],
 "metadata": {
  "kernelspec": {
   "display_name": "Python 3",
   "language": "python",
   "name": "python3"
  },
  "language_info": {
   "codemirror_mode": {
    "name": "ipython",
    "version": 3
   },
   "file_extension": ".py",
   "mimetype": "text/x-python",
   "name": "python",
   "nbconvert_exporter": "python",
   "pygments_lexer": "ipython3",
   "version": "3.6.9"
  },
  "toc": {
   "base_numbering": 1,
   "nav_menu": {},
   "number_sections": true,
   "sideBar": true,
   "skip_h1_title": false,
   "title_cell": "Table of Contents",
   "title_sidebar": "Contents",
   "toc_cell": false,
   "toc_position": {},
   "toc_section_display": true,
   "toc_window_display": false
  }
 },
 "nbformat": 4,
 "nbformat_minor": 4
}
